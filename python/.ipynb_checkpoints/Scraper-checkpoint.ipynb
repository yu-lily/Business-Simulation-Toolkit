{
 "cells": [
  {
   "cell_type": "code",
   "execution_count": null,
   "metadata": {},
   "outputs": [],
   "source": [
    "USERNAME = \n",
    "PASSWORD = "
   ]
  },
  {
   "cell_type": "code",
   "execution_count": 1,
   "metadata": {
    "pycharm": {
     "is_executing": false
    }
   },
   "outputs": [],
   "source": [
    "import os\n",
    "import time\n",
    "from datetime import date, timedelta\n",
    "from os import path\n",
    "\n",
    "import Driver\n",
    "import pandas as pd\n",
    "from bs4 import BeautifulSoup"
   ]
  },
  {
   "cell_type": "markdown",
   "metadata": {},
   "source": [
    "### waitRand\n",
    "Waits a random amount of seconds then prints time waited.\n",
    "\n",
    "Default time is 1-3 seconds"
   ]
  },
  {
   "cell_type": "code",
   "execution_count": 3,
   "metadata": {
    "pycharm": {
     "is_executing": false
    }
   },
   "outputs": [],
   "source": [
    "from numpy.random import randint\n",
    "\n",
    "def waitRand(maxTime=3):\n",
    "    waitTime = randint(1,maxTime+1)\n",
    "    time.sleep(waitTime)\n",
    "    if waitTime > 1:\n",
    "        print(\"Waited for {} seconds.\".format(waitTime))\n",
    "    else:\n",
    "        print(\"Waited for {} second.\".format(waitTime))"
   ]
  },
  {
   "cell_type": "markdown",
   "metadata": {},
   "source": [
    "### clickAndLog\n",
    "Clicks on a link, then returns the source."
   ]
  },
  {
   "cell_type": "code",
   "execution_count": 4,
   "metadata": {
    "pycharm": {
     "is_executing": false
    }
   },
   "outputs": [],
   "source": [
    "def clickAndLog(linkText, method = 'link text'):\n",
    "    waitRand()\n",
    "    driver.find_element(method, linkText).click()\n",
    "    print(\"Got {}.\".format(linkText))\n",
    "    return driver.page_source"
   ]
  },
  {
   "cell_type": "code",
   "execution_count": 5,
   "metadata": {
    "pycharm": {
     "is_executing": false
    }
   },
   "outputs": [],
   "source": [
    "driver = Driver.Driver()\n",
    "driver.login(USERNAME, PASSWORD)"
   ]
  },
  {
   "cell_type": "markdown",
   "metadata": {},
   "source": [
    "## Scrape Pages (Pure HTML)"
   ]
  },
  {
   "cell_type": "code",
   "execution_count": null,
   "metadata": {
    "pycharm": {
     "is_executing": false
    }
   },
   "outputs": [
    {
     "name": "stdout",
     "output_type": "stream",
     "text": [
      "Waited for 1 second.\n",
      "Got Trends.\n",
      "Waited for 1 second.\n",
      "Got Number of buildings.\n",
      "Waited for 3 seconds.\n",
      "Got Calculation of market prices.\n",
      "Waited for 1 second.\n",
      "Got Sales on the market.\n",
      "Waited for 1 second.\n",
      "Got Sales in shops.\n",
      "Waited for 2 seconds.\n",
      "Got /html/body/div[2]/div[2]/table/tbody/tr/td[2]/table/tbody/tr[2]/td/div[1]/nobr[7]/a.\n",
      "Waited for 3 seconds.\n"
     ]
    }
   ],
   "source": [
    "production = clickAndLog(\"Trends\")\n",
    "\n",
    "buildings = clickAndLog(\"Number of buildings\")\n",
    "\n",
    "pricesCalc = clickAndLog(\"Calculation of market prices\")\n",
    "\n",
    "marketSales = clickAndLog(\"Sales on the market\")\n",
    "\n",
    "shopSales = clickAndLog(\"Sales in shops\")\n",
    "\n",
    "#there are two links named Offices, so we must locate by xpath\n",
    "offices = clickAndLog(r\"/html/body/div[2]/div[2]/table/tbody/tr/td[2]/table/tbody/tr[2]/td/div[1]/nobr[7]/a\", method = \"xpath\")\n",
    "                          \n",
    "prices = clickAndLog(\"Prices\")\n",
    "\n",
    "volume = clickAndLog(\"Buy goods\")"
   ]
  },
  {
   "cell_type": "code",
   "execution_count": null,
   "metadata": {
    "pycharm": {
     "is_executing": false
    }
   },
   "outputs": [],
   "source": [
    "cookies = driver.get_cookies()\n",
    "print('Done.')\n",
    "driver.close()\n",
    "\n",
    "yesterday = date.today() - timedelta(1)\n",
    "today = date.today()\n",
    "print('Recorded date of data collection.')"
   ]
  },
  {
   "cell_type": "markdown",
   "metadata": {},
   "source": [
    "## Convert HTML to dataframes"
   ]
  },
  {
   "cell_type": "code",
   "execution_count": null,
   "metadata": {
    "pycharm": {
     "is_executing": false
    }
   },
   "outputs": [],
   "source": [
    "df = pd.read_html(production, match=\"Goods\", header=4, index_col=0)\n",
    "production_df = df[0].dropna()"
   ]
  },
  {
   "cell_type": "code",
   "execution_count": null,
   "metadata": {
    "pycharm": {
     "is_executing": false
    }
   },
   "outputs": [],
   "source": [
    "df = pd.read_html(buildings, match=\"Factory\", header=4, index_col=1)\n",
    "buildings_df = df[0].drop(columns=['Unnamed: 0']).dropna()\n",
    "buildings_df = buildings_df.drop(['In total','Shop','Offices']) #drop totals, shop, office"
   ]
  },
  {
   "cell_type": "code",
   "execution_count": null,
   "metadata": {
    "pycharm": {
     "is_executing": false
    }
   },
   "outputs": [],
   "source": [
    "df = pd.read_html(pricesCalc, match=\"Goods\", header=4, index_col=0)\n",
    "pricesCalc_df = df[0].dropna()"
   ]
  },
  {
   "cell_type": "code",
   "execution_count": null,
   "metadata": {
    "pycharm": {
     "is_executing": false
    }
   },
   "outputs": [],
   "source": [
    "df = pd.read_html(marketSales, match=\"Goods\", header=4, index_col=0)\n",
    "marketSales_df = df[0].dropna()"
   ]
  },
  {
   "cell_type": "code",
   "execution_count": null,
   "metadata": {
    "pycharm": {
     "is_executing": false
    }
   },
   "outputs": [],
   "source": [
    "df = pd.read_html(shopSales, match=\"Goods\", header=4, index_col=0)\n",
    "shopSales_df = df[0].dropna()"
   ]
  },
  {
   "cell_type": "code",
   "execution_count": null,
   "metadata": {
    "pycharm": {
     "is_executing": false
    }
   },
   "outputs": [],
   "source": [
    "df = pd.read_html(offices, match=\"Office jobs hours created nationwide\", header=4, index_col=0)\n",
    "offices_df = df[0].dropna()"
   ]
  },
  {
   "cell_type": "code",
   "execution_count": null,
   "metadata": {
    "pycharm": {
     "is_executing": false
    }
   },
   "outputs": [],
   "source": [
    "pricesTable = BeautifulSoup(prices).find_all(\"table\")[2]\n",
    "df = pd.read_html(str(pricesTable))[0]\n",
    "df = df.drop([0,1,2,3,4])\n",
    "df = df.set_index(0)\n",
    "df = df.rename(columns=df.iloc[0])\n",
    "df = df.drop(['Goods'])\n",
    "df.index.names = ['Goods']\n",
    "df = df.iloc[:,-1]\n",
    "prices_df = df.dropna()\n",
    "prices_df.name = pd.to_datetime(prices_df.name)"
   ]
  },
  {
   "cell_type": "code",
   "execution_count": null,
   "metadata": {
    "pycharm": {
     "is_executing": false
    }
   },
   "outputs": [],
   "source": [
    "df = pd.read_html(volume)"
   ]
  },
  {
   "cell_type": "markdown",
   "metadata": {},
   "source": [
    "## Append existing CSV files"
   ]
  },
  {
   "cell_type": "code",
   "execution_count": null,
   "metadata": {
    "pycharm": {
     "is_executing": false
    }
   },
   "outputs": [],
   "source": [
    "def convert(input_df):\n",
    "    \"\"\"\n",
    "    Transposes data and converts to int\n",
    "    \n",
    "    Renames index to actual dates\n",
    "    \n",
    "    Drops today data because it is incomplete\n",
    "    \"\"\"\n",
    "    dfT = input_df.T.astype(int)\n",
    "    \n",
    "    dfT.rename(index={'Yesterday':yesterday},inplace=True)\n",
    "    dfT.rename(index={'Today':today},inplace=True)\n",
    "    dfT.index = pd.to_datetime(dfT.index)\n",
    "    dfT = dfT.drop([today])\n",
    "    return dfT"
   ]
  },
  {
   "cell_type": "code",
   "execution_count": null,
   "metadata": {
    "pycharm": {
     "is_executing": false
    }
   },
   "outputs": [],
   "source": [
    "def save_data(input_df, csv_path):\n",
    "    \"\"\"\n",
    "    Creates new csv or appends data to existing csv\n",
    "    \"\"\"\n",
    "    if not path.exists(csv_path):\n",
    "        input_df.to_csv(csv_path)\n",
    "        print('File did not exist, created new file and saved data.')\n",
    "    else:\n",
    "        file = pd.read_csv(csv_path, index_col=0)\n",
    "        file.index = pd.to_datetime(file.index)\n",
    "        file = file.append(input_df)\n",
    "        file = file.drop_duplicates().sort_index()\n",
    "        file.to_csv(csv_path)\n",
    "        print('Data successfully appended to existing file.')"
   ]
  },
  {
   "cell_type": "code",
   "execution_count": null,
   "metadata": {
    "pycharm": {
     "is_executing": false
    }
   },
   "outputs": [],
   "source": [
    "production_path = 'data/production.csv'\n",
    "\n",
    "production_dfT = convert(production_df)\n",
    "save_data(production_dfT, production_path)"
   ]
  },
  {
   "cell_type": "code",
   "execution_count": null,
   "metadata": {
    "pycharm": {
     "is_executing": false
    }
   },
   "outputs": [],
   "source": [
    "marketSales_path = 'data/marketSales.csv'\n",
    "\n",
    "marketSales_dfT = convert(marketSales_df)\n",
    "save_data(marketSales_dfT, marketSales_path)"
   ]
  },
  {
   "cell_type": "code",
   "execution_count": null,
   "metadata": {
    "pycharm": {
     "is_executing": false
    }
   },
   "outputs": [],
   "source": [
    "shopSales_path = 'data/shopSales.csv'\n",
    "\n",
    "shopSales_dfT = convert(shopSales_df)\n",
    "save_data(shopSales_dfT, shopSales_path)"
   ]
  },
  {
   "cell_type": "code",
   "execution_count": null,
   "metadata": {
    "pycharm": {
     "is_executing": false
    }
   },
   "outputs": [],
   "source": [
    "date_path = 'data/' + 'buildingData/' + str(today)\n",
    "os.mkdir(date_path)\n",
    "pricesCalc_df.to_csv('{}/pricesCalc.csv'.format(date_path))\n",
    "offices_df.to_csv('{}/offices.csv'.format(date_path))\n",
    "buildings_df.T.to_csv('{}/offices.csv'.format(date_path))"
   ]
  },
  {
   "cell_type": "code",
   "execution_count": null,
   "metadata": {
    "pycharm": {
     "is_executing": false,
     "name": "#%%\n"
    }
   },
   "outputs": [],
   "source": [
    "prices_file = os.path.join(\"data\", \"prices.csv\")\n",
    "if not os.path.exists(prices_file):\n",
    "    with open(prices_file, \"w\") as f:\n",
    "        f.write(\",Alcohol,Bread,Clothes,Cotton,Flour,Fresh fish,Frozen fish,Furniture,Gasoline,Marble,Newspapers,Oil,Paper,Pigs,Planks,Plastic,Sausages,Stone,Thread,Toys,Wheat,Wood\")\n",
    "df = pd.read_csv(prices_file, index_col=0)\n",
    "df.index = pd.to_datetime(df.index)\n",
    "if prices_df.name not in df.index:\n",
    "    df = df.append(prices_df)\n",
    "    df.to_csv(prices_file)\n",
    "    print('Successfully Appended')\n",
    "else:\n",
    "    print('Today\\'s info already in spreadsheet')\n"
   ]
  }
 ],
 "metadata": {
  "kernelspec": {
   "display_name": "Python 3",
   "language": "python",
   "name": "python3"
  },
  "language_info": {
   "codemirror_mode": {
    "name": "ipython",
    "version": 3
   },
   "file_extension": ".py",
   "mimetype": "text/x-python",
   "name": "python",
   "nbconvert_exporter": "python",
   "pygments_lexer": "ipython3",
   "version": "3.7.6"
  },
  "pycharm": {
   "stem_cell": {
    "cell_type": "raw",
    "metadata": {
     "collapsed": false
    },
    "source": []
   }
  }
 },
 "nbformat": 4,
 "nbformat_minor": 4
}
