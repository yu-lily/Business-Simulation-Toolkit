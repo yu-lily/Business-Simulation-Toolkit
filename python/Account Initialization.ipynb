{
 "cells": [
  {
   "cell_type": "code",
   "execution_count": null,
   "metadata": {},
   "outputs": [],
   "source": [
    "DESIRED_PASSWORD = "
   ]
  },
  {
   "cell_type": "code",
   "execution_count": 1,
   "metadata": {},
   "outputs": [],
   "source": [
    "import requests\n",
    "from guerrillamail import GuerrillaMailSession\n",
    "from bs4 import BeautifulSoup\n",
    "import time\n",
    "import random\n",
    "import re\n",
    "import pandas as pd"
   ]
  },
  {
   "cell_type": "code",
   "execution_count": 2,
   "metadata": {},
   "outputs": [],
   "source": [
    "mail_session = GuerrillaMailSession()\n",
    "email = mail_session.get_session_state()['email_address']"
   ]
  },
  {
   "cell_type": "code",
   "execution_count": 3,
   "metadata": {},
   "outputs": [],
   "source": [
    "vote_url = 'https://usa.tycoononline.com/vote.php'\n",
    "homepage = 'https://usa.tycoononline.com/frame_index.php'"
   ]
  },
  {
   "cell_type": "code",
   "execution_count": 4,
   "metadata": {},
   "outputs": [],
   "source": [
    "def get_savings():\n",
    "    r = s.get(homepage)\n",
    "    raw_innerHTML =  BeautifulSoup(r.text).find('table', {'id': 'header'}).find_all('td', {'class': 'text8 info'})[0].text\n",
    "    int_innerHTML = re.findall(r'\\d+', raw_innerHTML)\n",
    "    full_str = ''\n",
    "    for i in int_innerHTML:\n",
    "        full_str += i\n",
    "    return int(full_str)"
   ]
  },
  {
   "cell_type": "code",
   "execution_count": 5,
   "metadata": {},
   "outputs": [],
   "source": [
    "def try_vote():\n",
    "    r = s.get(vote_url)\n",
    "    return r"
   ]
  },
  {
   "cell_type": "code",
   "execution_count": 6,
   "metadata": {},
   "outputs": [],
   "source": [
    "df = pd.read_csv('accounts.csv')"
   ]
  },
  {
   "cell_type": "code",
   "execution_count": 7,
   "metadata": {},
   "outputs": [
    {
     "name": "stdout",
     "output_type": "stream",
     "text": [
      "10\n"
     ]
    }
   ],
   "source": [
    "accNum = len(df) + 16\n",
    "print(len(df))"
   ]
  },
  {
   "cell_type": "code",
   "execution_count": 8,
   "metadata": {},
   "outputs": [
    {
     "name": "stdout",
     "output_type": "stream",
     "text": [
      "jpvbquas@guerrillamailblock.com\n"
     ]
    }
   ],
   "source": [
    "print(email)"
   ]
  },
  {
   "cell_type": "markdown",
   "metadata": {},
   "source": [
    "## Account creation"
   ]
  },
  {
   "cell_type": "code",
   "execution_count": 9,
   "metadata": {},
   "outputs": [],
   "source": [
    "url = 'https://usa.tycoononline.com/frame_index.php?page=regMedlem1'\n",
    "s = requests.Session()\n",
    "r = s.get(url)\n",
    "sid = r.cookies['PHPSESSID']"
   ]
  },
  {
   "cell_type": "code",
   "execution_count": 10,
   "metadata": {},
   "outputs": [],
   "source": [
    "#Submit email address\n",
    "params = {\n",
    "    'sidvariabel': sid,\n",
    "    'epost': email\n",
    "}\n",
    "r = s.post('https://usa.tycoononline.com/regMedlem1Kontroll.php', data = params)"
   ]
  },
  {
   "cell_type": "code",
   "execution_count": 11,
   "metadata": {},
   "outputs": [
    {
     "name": "stdout",
     "output_type": "stream",
     "text": [
      "Waiting for registration email:\n",
      "0\n",
      "1\n",
      "2\n",
      "3\n",
      "Waited 4 intervals.\n",
      "\n"
     ]
    }
   ],
   "source": [
    "#Retrieve registration email\n",
    "registration_email = None\n",
    "intervals = 0\n",
    "print(\"Waiting for registration email:\")\n",
    "while not registration_email:\n",
    "    emails = mail_session.get_email_list()\n",
    "    for mail in emails:\n",
    "        if 'tycoononline.com' in mail.sender:\n",
    "            registration_email = mail\n",
    "    print(intervals)\n",
    "    time.sleep(5)\n",
    "    intervals += 1\n",
    "print('Waited {} intervals.\\n'.format(intervals))"
   ]
  },
  {
   "cell_type": "code",
   "execution_count": 13,
   "metadata": {},
   "outputs": [],
   "source": [
    "registration_email_body = mail_session.get_email(registration_email.guid).body\n",
    "registration_link = BeautifulSoup(registration_email_body).find('a')['href']\n",
    "r = s.get(registration_link)"
   ]
  },
  {
   "cell_type": "code",
   "execution_count": 14,
   "metadata": {},
   "outputs": [],
   "source": [
    "date = str(random.randint(1,28))\n",
    "month = str(random.randint(1,12))\n",
    "year = str(random.randint(1950,2000))\n",
    "password = DESIRED_PASSWORD\n",
    "firstName = 'mitch' + str(random.randint(1,1000))\n",
    "lastName = 'laskey'\n",
    "country = '18'\n",
    "secName = 'Micheal'"
   ]
  },
  {
   "cell_type": "code",
   "execution_count": 15,
   "metadata": {},
   "outputs": [],
   "source": [
    "tejaFirst = 'Tycoon'\n",
    "tejaLast = 'Multi ' + str (accNum)\n",
    "tejaGender = str(random.randint(0,1))\n",
    "tejaOccupation = str(random.randint(1,3))\n",
    "tejaCountry = str(random.randint(1,150))\n",
    "\n",
    "tejaCompanyName = chr(65+accNum) * 4"
   ]
  },
  {
   "cell_type": "code",
   "execution_count": 15,
   "metadata": {},
   "outputs": [],
   "source": [
    "#Register\n",
    "registration_params = {\n",
    "    'sidvariabel': sid,\n",
    "    'regform': 'true',\n",
    "    'dob': date,\n",
    "    'mob': month,\n",
    "    'yob': year,\n",
    "    'password': password,\n",
    "    'password2': password,\n",
    "    'firstname': firstName,\n",
    "    'lastname': lastName,\n",
    "    'gender': '1', # 1 or 0\n",
    "    'occupation': '3',#1,2,3?\n",
    "    'showage': '2',\n",
    "    'countryId': country, #randomize?\n",
    "    'touch': '0',\n",
    "    'secretary': secName,\n",
    "    'agreetoterms': 'yes',\n",
    "    'submitBtn': 'Next+>>'\n",
    "}\n",
    "\n",
    "r = s.post(registration_link, data = registration_params)"
   ]
  },
  {
   "cell_type": "markdown",
   "metadata": {},
   "source": [
    "## Company creation"
   ]
  },
  {
   "cell_type": "code",
   "execution_count": 18,
   "metadata": {},
   "outputs": [],
   "source": [
    "company_params = {\n",
    "    'companyName': tejaCompanyName,\n",
    "    'specialitet': '7' #1 is wood, 5 is stone, 7 is wheat\n",
    "}\n",
    "make_company_page = 'https://usa.tycoononline.com/regCompany1Kontroll.php'\n",
    "r = s.post(make_company_page, data = company_params)"
   ]
  },
  {
   "cell_type": "code",
   "execution_count": 19,
   "metadata": {},
   "outputs": [],
   "source": [
    "city = str(random.randint(1,9))"
   ]
  },
  {
   "cell_type": "code",
   "execution_count": 20,
   "metadata": {},
   "outputs": [],
   "source": [
    "city_params = {\n",
    "    'cityId': city\n",
    "}\n",
    "choose_city_page = 'https://usa.tycoononline.com/regCompany2Kontroll.php'\n",
    "r = s.post(choose_city_page, data = city_params)"
   ]
  },
  {
   "cell_type": "markdown",
   "metadata": {},
   "source": [
    "## Get money\n",
    "\n",
    " - Take out loan\n",
    " - Sell shares"
   ]
  },
  {
   "cell_type": "code",
   "execution_count": 21,
   "metadata": {},
   "outputs": [],
   "source": [
    "#Take out loan\n",
    "loan_params = {\n",
    "    'summa': '5000',\n",
    "    'veckor': '1'\n",
    "}\n",
    "\n",
    "loan_page = 'https://usa.tycoononline.com/lanNyttInsert.php'\n",
    "r = s.post(loan_page, data = loan_params)"
   ]
  },
  {
   "cell_type": "code",
   "execution_count": 22,
   "metadata": {},
   "outputs": [],
   "source": [
    "own_shares_url = 'https://usa.tycoononline.com/frame_index.php?page=aktieMina'\n",
    "\n",
    "r = s.get(own_shares_url)"
   ]
  },
  {
   "cell_type": "code",
   "execution_count": 23,
   "metadata": {},
   "outputs": [],
   "source": [
    "#Find share ids\n",
    "share_ids = []\n",
    "share_ids_page = BeautifulSoup(r.text)\n",
    "share_inputs = share_ids_page.find_all('input', {'name':'akties[]'})\n",
    "for share in share_inputs:\n",
    "    share_ids.append(share['value'])"
   ]
  },
  {
   "cell_type": "code",
   "execution_count": 24,
   "metadata": {},
   "outputs": [],
   "source": [
    "#Sell shares\n",
    "sell_shares = {\n",
    "    \"all\":\"true\", #try with only this?\n",
    "    \"akties[]\": share_ids,\n",
    "    \"sellToBank\":\"Instantly+sell+to+bank+for+a+reduced+price\"\n",
    "}\n",
    "\n",
    "sell_shares_url = 'https://usa.tycoononline.com/aktieSalj.php'\n",
    "r = s.post(sell_shares_url, sell_shares)"
   ]
  },
  {
   "cell_type": "markdown",
   "metadata": {},
   "source": [
    "## Build factory"
   ]
  },
  {
   "cell_type": "code",
   "execution_count": 25,
   "metadata": {},
   "outputs": [],
   "source": [
    "def find_first_buildable_coords(map_buildable, building_size):\n",
    "    for row in range(len(map_buildable)):\n",
    "        for tile in range(len(map_buildable[row])):\n",
    "            if map_buildable[row][tile]:\n",
    "                found_occupied = False\n",
    "                for subrow in range(row, row + building_size):\n",
    "                    if subrow >= len(map_buildable):\n",
    "                        break\n",
    "                    for subcol in range(tile, tile + building_size):\n",
    "                        if subcol >= len(map_buildable):\n",
    "                            break\n",
    "                        if not map_buildable[subrow][subcol]:\n",
    "                            found_occupied = True\n",
    "                if not found_occupied:\n",
    "                    return (tile, row)\n",
    "    return None"
   ]
  },
  {
   "cell_type": "code",
   "execution_count": 26,
   "metadata": {},
   "outputs": [],
   "source": [
    "def is_buildable(tile):\n",
    "    attributes = tile.find('img')['onmouseover'].split(',')\n",
    "    company = attributes[3]\n",
    "    land_type = attributes[-1]\n",
    "    return company == \"''\" and 'Countryside' in land_type"
   ]
  },
  {
   "cell_type": "code",
   "execution_count": 27,
   "metadata": {},
   "outputs": [],
   "source": [
    "def build_and_place_factory(factory_id, building_size, typ = 2):\n",
    "    \"\"\"\n",
    "    factory_id: Forest is 1, Sawmill is 4, Wheat field is 7, Flourmill is 8\n",
    "    building_size: Size of the building. If irregular, this should be the longest side.\n",
    "    typ: 2 is Countryside. Currently only works for countryside buildings\n",
    "    \n",
    "    Returns byggandId, which is building id.\n",
    "    \"\"\"\n",
    "    factory_id = str(factory_id)\n",
    "    typ = str(typ)\n",
    "    build_factory_params = {\n",
    "        'fabriktypId': factory_id\n",
    "    }\n",
    "    build_factory_page = 'https://usa.tycoononline.com/fabrikBygg.php?fabriktypId={}'.format(factory_id)\n",
    "    r = s.post(build_factory_page, data = build_factory_params)\n",
    "    \n",
    "    \n",
    "    build_factory_response = BeautifulSoup(r.text)\n",
    "    args = str(build_factory_response.find(id='placeBuilding2').parent).split('=')\n",
    "    kartabyggnadId = args[3].split('&')[0]\n",
    "    byggandId = args[4].split('&')[0]\n",
    "    \n",
    "\n",
    "    place_factory_1_params = {\n",
    "        \"page\": \"kartaSegment\",\n",
    "        \"kartabyggnadId\": kartabyggnadId,\n",
    "        \"byggnadId\": byggandId,\n",
    "        \"typ\": typ}\n",
    "\n",
    "    place_factory_url = 'https://usa.tycoononline.com/frame_index.php'\n",
    "    r = s.post(place_factory_url, data = place_factory_1_params)\n",
    "    \n",
    "    \n",
    "    active_tile_img = '../../bilder/z/g/l/10_1.gif' #Countryside only\n",
    "    less_active_tile_img = '../../bilder/z/g/l/10_2.gif'\n",
    "    least_active_tile_img = '../../bilder/z/g/l/10_3.gif'\n",
    "    place_factory_1_response = BeautifulSoup(r.text)\n",
    "    active_tiles = place_factory_1_response.findAll(\"img\", {\"src\" : active_tile_img})\n",
    "    if not active_tiles:\n",
    "        active_tiles = place_factory_1_response.findAll(\"img\", {\"src\" : less_active_tile_img})\n",
    "        if not active_tiles:\n",
    "            active_tiles = place_factory_1_response.findAll(\"img\", {\"src\" : least_active_tile_img})\n",
    "    tile_args = active_tiles[0].parent['onclick'].split(',')\n",
    "    x = re.findall(r'\\d+', tile_args[0])[0]\n",
    "    y = re.findall(r'\\d+', tile_args[1])[0]\n",
    "    \n",
    "    \n",
    "    place_factory_2_params = {\n",
    "        \"page\":\"kartaPlaceraByggnad1\",\n",
    "        \"X\": x,\n",
    "        \"Y\": y,\n",
    "        \"kartabyggnadId\": kartabyggnadId,\n",
    "        \"byggnadId\": byggandId}\n",
    "    r = s.post(place_factory_url, data = place_factory_2_params)\n",
    "    place_factory_2_response = BeautifulSoup(r.text)\n",
    "    kartagrovId = place_factory_2_response.find('input', {'name': 'kartagrovId'})['value']\n",
    "    long_js = place_factory_2_response.find('td', {'id': 'main-column'}).find_all('script')[0]\n",
    "    p = re.compile('kartaIdStart = (\\d*);')\n",
    "    kartaIdStart = p.search(str(long_js))[0]\n",
    "    kartaIdStart = re.findall(r'\\d+', kartaIdStart)[0]\n",
    "    \n",
    "    \n",
    "    check_map_url = 'https://usa.tycoononline.com/frame_index.php?page=kartaTitta&X={}&Y={}&cityId={}'.format(x,y,city)\n",
    "    r = s.get(check_map_url)\n",
    "    \n",
    "\n",
    "    check_map = BeautifulSoup(r.text)\n",
    "    full_map = check_map.find('td', {'id': 'main-column'}).find_all('table')[5].find('tr').find_all('tr') #Elements are rows\n",
    "    found_spot = False\n",
    "    #full_map[curr_y].find_all('td')[curr_x].find('img')['onmouseover'].split(',')\n",
    "    \n",
    "    full_map_buildable = []\n",
    "    for row in full_map:\n",
    "        tiles = row.find_all('td')\n",
    "        row_buildable = list(map(is_buildable, tiles))\n",
    "        full_map_buildable.append(row_buildable)\n",
    "        \n",
    "    inner_xy_pair = find_first_buildable_coords(full_map_buildable, building_size)\n",
    "    inner_x = inner_xy_pair[0]\n",
    "    inner_y = inner_xy_pair[1]\n",
    "    kartaId = str(int(kartaIdStart) + inner_x + (inner_y * 20))\n",
    "    \n",
    "    choose_tile_params = {\n",
    "        \"rutnat\": \"0\", #Grid - Show grid lines, can always be 0\n",
    "        \"kartagrovId\": kartagrovId, #Rough map - In js within tile page - Transformed x,y coords?\n",
    "        \"kartaId\": kartaId, #Map - Found in js of bigger tile page\n",
    "        \"kartabyggnadId\": kartabyggnadId, #Map building - Found in factory page\n",
    "        \"byggnadId\": byggandId, #Building - Building id (fabrikId) Found in js of bigger map\n",
    "        \"X\": x,\n",
    "        \"Y\": y\n",
    "    }\n",
    "    choose_tile_url = 'https://usa.tycoononline.com/kartaPlaceraByggnad2.php'\n",
    "    r = s.post(choose_tile_url, choose_tile_params)\n",
    "    \n",
    "    return byggandId"
   ]
  },
  {
   "cell_type": "code",
   "execution_count": 28,
   "metadata": {},
   "outputs": [
    {
     "ename": "AttributeError",
     "evalue": "'NoneType' object has no attribute 'parent'",
     "output_type": "error",
     "traceback": [
      "\u001b[1;31m---------------------------------------------------------------------------\u001b[0m",
      "\u001b[1;31mAttributeError\u001b[0m                            Traceback (most recent call last)",
      "\u001b[1;32m<ipython-input-28-d717533cd386>\u001b[0m in \u001b[0;36m<module>\u001b[1;34m\u001b[0m\n\u001b[1;32m----> 1\u001b[1;33m \u001b[0mwheat_field_01_id\u001b[0m \u001b[1;33m=\u001b[0m \u001b[0mbuild_and_place_factory\u001b[0m\u001b[1;33m(\u001b[0m\u001b[1;36m7\u001b[0m\u001b[1;33m,\u001b[0m \u001b[1;36m3\u001b[0m\u001b[1;33m)\u001b[0m\u001b[1;33m\u001b[0m\u001b[1;33m\u001b[0m\u001b[0m\n\u001b[0m",
      "\u001b[1;32m<ipython-input-27-5881a1b02973>\u001b[0m in \u001b[0;36mbuild_and_place_factory\u001b[1;34m(factory_id, building_size, typ)\u001b[0m\n\u001b[0;32m     17\u001b[0m \u001b[1;33m\u001b[0m\u001b[0m\n\u001b[0;32m     18\u001b[0m     \u001b[0mbuild_factory_response\u001b[0m \u001b[1;33m=\u001b[0m \u001b[0mBeautifulSoup\u001b[0m\u001b[1;33m(\u001b[0m\u001b[0mr\u001b[0m\u001b[1;33m.\u001b[0m\u001b[0mtext\u001b[0m\u001b[1;33m)\u001b[0m\u001b[1;33m\u001b[0m\u001b[1;33m\u001b[0m\u001b[0m\n\u001b[1;32m---> 19\u001b[1;33m     \u001b[0margs\u001b[0m \u001b[1;33m=\u001b[0m \u001b[0mstr\u001b[0m\u001b[1;33m(\u001b[0m\u001b[0mbuild_factory_response\u001b[0m\u001b[1;33m.\u001b[0m\u001b[0mfind\u001b[0m\u001b[1;33m(\u001b[0m\u001b[0mid\u001b[0m\u001b[1;33m=\u001b[0m\u001b[1;34m'placeBuilding2'\u001b[0m\u001b[1;33m)\u001b[0m\u001b[1;33m.\u001b[0m\u001b[0mparent\u001b[0m\u001b[1;33m)\u001b[0m\u001b[1;33m.\u001b[0m\u001b[0msplit\u001b[0m\u001b[1;33m(\u001b[0m\u001b[1;34m'='\u001b[0m\u001b[1;33m)\u001b[0m\u001b[1;33m\u001b[0m\u001b[1;33m\u001b[0m\u001b[0m\n\u001b[0m\u001b[0;32m     20\u001b[0m     \u001b[0mkartabyggnadId\u001b[0m \u001b[1;33m=\u001b[0m \u001b[0margs\u001b[0m\u001b[1;33m[\u001b[0m\u001b[1;36m3\u001b[0m\u001b[1;33m]\u001b[0m\u001b[1;33m.\u001b[0m\u001b[0msplit\u001b[0m\u001b[1;33m(\u001b[0m\u001b[1;34m'&'\u001b[0m\u001b[1;33m)\u001b[0m\u001b[1;33m[\u001b[0m\u001b[1;36m0\u001b[0m\u001b[1;33m]\u001b[0m\u001b[1;33m\u001b[0m\u001b[1;33m\u001b[0m\u001b[0m\n\u001b[0;32m     21\u001b[0m     \u001b[0mbyggandId\u001b[0m \u001b[1;33m=\u001b[0m \u001b[0margs\u001b[0m\u001b[1;33m[\u001b[0m\u001b[1;36m4\u001b[0m\u001b[1;33m]\u001b[0m\u001b[1;33m.\u001b[0m\u001b[0msplit\u001b[0m\u001b[1;33m(\u001b[0m\u001b[1;34m'&'\u001b[0m\u001b[1;33m)\u001b[0m\u001b[1;33m[\u001b[0m\u001b[1;36m0\u001b[0m\u001b[1;33m]\u001b[0m\u001b[1;33m\u001b[0m\u001b[1;33m\u001b[0m\u001b[0m\n",
      "\u001b[1;31mAttributeError\u001b[0m: 'NoneType' object has no attribute 'parent'"
     ]
    }
   ],
   "source": [
    "wheat_field_01_id = build_and_place_factory(7, 3)"
   ]
  },
  {
   "cell_type": "code",
   "execution_count": null,
   "metadata": {},
   "outputs": [],
   "source": [
    "wheat_field_02_id = build_and_place_factory(7, 3)"
   ]
  },
  {
   "cell_type": "markdown",
   "metadata": {},
   "source": [
    "## Hire and assign staff"
   ]
  },
  {
   "cell_type": "code",
   "execution_count": null,
   "metadata": {},
   "outputs": [],
   "source": [
    "def hire_and_place_staff(profession_id, building_id):\n",
    "    \"\"\"\n",
    "    profession_id: 15 is sawmill worker, 10 is woodcutter, 2 is farmer, 8 is miller\n",
    "    building_id: same as byggnadId\n",
    "    \"\"\"\n",
    "    post_job_ad  = {\n",
    "        \"page\":\"hirestaff\",\n",
    "        \"step\":\"1\",\n",
    "        \"profession\": str(profession_id)\n",
    "    }\n",
    "    post_job_ad_url = 'https://usa.tycoononline.com/frame_index.php?page=hirestaff'\n",
    "    r = s.post(post_job_ad_url, post_job_ad)\n",
    "    \n",
    "    \n",
    "    staff_labels = BeautifulSoup(r.text).find_all('label')\n",
    "    staff_ids = []\n",
    "    for i in range(3):\n",
    "        rawAttribute = staff_labels[i]['for']\n",
    "        numAttribute = str(re.findall(r'\\d+', rawAttribute)[0])\n",
    "        staff_ids.append(numAttribute)\n",
    "        \n",
    "        \n",
    "    hire_staff = {\n",
    "        \"page\":\"hirestaff\",\n",
    "        \"step\":\"2\",\n",
    "        \"hire[]\": staff_ids\n",
    "    }\n",
    "    hire_staff_url = 'https://usa.tycoononline.com/frame_index.php?page=hirestaff'\n",
    "    r = s.post(hire_staff_url, hire_staff)\n",
    "    \n",
    "    \n",
    "    for staff_id in staff_ids:\n",
    "        place_staff = {\n",
    "            \"personId\": staff_id,\n",
    "            \"byggnadId\": '1' + str(building_id)\n",
    "        }\n",
    "        place_staff_url = 'https://usa.tycoononline.com/personByggnad.php'\n",
    "        r = s.post(place_staff_url, place_staff)"
   ]
  },
  {
   "cell_type": "code",
   "execution_count": null,
   "metadata": {},
   "outputs": [],
   "source": [
    "#Hire and place sawmill workers\n",
    "hire_and_place_staff(2, wheat_field_01_id)\n",
    "hire_and_place_staff(2, wheat_field_02_id)"
   ]
  },
  {
   "cell_type": "code",
   "execution_count": null,
   "metadata": {},
   "outputs": [],
   "source": [
    "current_savings = get_savings()"
   ]
  },
  {
   "cell_type": "code",
   "execution_count": null,
   "metadata": {},
   "outputs": [],
   "source": [
    "row = [email, current_savings, 2, 500]\n",
    "df.loc[len(df)] = row\n",
    "df.to_csv('accounts.csv', index=False)"
   ]
  }
 ],
 "metadata": {
  "kernelspec": {
   "display_name": "Python 3",
   "language": "python",
   "name": "python3"
  },
  "language_info": {
   "codemirror_mode": {
    "name": "ipython",
    "version": 3
   },
   "file_extension": ".py",
   "mimetype": "text/x-python",
   "name": "python",
   "nbconvert_exporter": "python",
   "pygments_lexer": "ipython3",
   "version": "3.7.6"
  }
 },
 "nbformat": 4,
 "nbformat_minor": 4
}
