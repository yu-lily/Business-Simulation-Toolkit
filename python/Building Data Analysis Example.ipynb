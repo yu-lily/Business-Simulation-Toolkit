{
 "cells": [
  {
   "cell_type": "code",
   "execution_count": 1,
   "metadata": {
    "pycharm": {
     "is_executing": false
    }
   },
   "outputs": [],
   "source": [
    "import os\n",
    "import pandas as pd\n",
    "from datetime import date"
   ]
  },
  {
   "cell_type": "code",
   "execution_count": 2,
   "metadata": {
    "pycharm": {
     "is_executing": false
    }
   },
   "outputs": [],
   "source": [
    "import pickle\n",
    "with open('imageToBuilding.pkl', 'rb') as f:\n",
    "    imageToBuilding = pickle.load(f)\n",
    "buildingNames = set(imageToBuilding.values())"
   ]
  },
  {
   "cell_type": "code",
   "execution_count": 3,
   "metadata": {
    "pycharm": {
     "is_executing": false
    }
   },
   "outputs": [],
   "source": [
    "today = date.today()\n",
    "today_str = str(today) + '.csv'\n",
    "buildings = pd.read_csv(os.path.join(\"data\", \"buildingData\", today_str))\n",
    "leaderboard = pd.read_csv(os.path.join(\"data\", \"leaderboard\", today_str), index_col=0)"
   ]
  },
  {
   "cell_type": "code",
   "execution_count": 4,
   "metadata": {
    "pycharm": {
     "is_executing": false
    }
   },
   "outputs": [],
   "source": [
    "buildings_by_company = buildings.groupby(['Company Name','Building']).count().drop(['Road Bonus'], axis=1).unstack(level=1).fillna(0).astype(int)\n",
    "buildings_by_company.columns = buildings_by_company.columns.droplevel(level=0)"
   ]
  },
  {
   "cell_type": "code",
   "execution_count": 5,
   "metadata": {
    "pycharm": {
     "is_executing": false
    }
   },
   "outputs": [],
   "source": [
    "buildings_by_company_with_leaderboard = buildings_by_company.join(leaderboard.set_index(['Company Name']))\n",
    "buildings_by_company_with_leaderboard = buildings_by_company_with_leaderboard.sort_values('CV', ascending=False)"
   ]
  },
  {
   "cell_type": "markdown",
   "metadata": {},
   "source": [
    "## Top 10"
   ]
  },
  {
   "cell_type": "code",
   "execution_count": 6,
   "metadata": {
    "pycharm": {
     "is_executing": false
    }
   },
   "outputs": [],
   "source": [
    "top10 = []\n",
    "for i in range(10):\n",
    "    player = dict(buildings_by_company_with_leaderboard.iloc[i])\n",
    "    player = {x:y for x,y in player.items() if y!=0}\n",
    "    top10.append(player)"
   ]
  },
  {
   "cell_type": "code",
   "execution_count": 7,
   "metadata": {},
   "outputs": [
    {
     "name": "stdout",
     "output_type": "stream",
     "text": [
      "{'Brewery': 7, 'Paper factory': 9, 'Sawmill': 9, 'Player Name': 'Mikey Tee', 'CV': 2146490}\n",
      "\n",
      "{'Furniture shop': 11, 'Kiosk': 14, 'Player Name': 'Teja', 'CV': 1530138}\n",
      "\n",
      "{'Bakery': 5, 'Brewery': 9, 'Paper factory': 2, 'Stone chopping house': 9, 'Player Name': 'Yui Kyouko', 'CV': 1470877}\n",
      "\n",
      "{'Brewery': 2, 'Clothes shop': 1, 'Cotton mill': 9, 'Grocery store': 3, 'Kiosk': 1, 'Paper factory': 3, 'Stone chopping house': 3, 'Toy store': 3, 'Player Name': 'Lanyard Fogarty', 'CV': 1388209}\n",
      "\n",
      "{'Oil drill': 25, 'Player Name': 'Hannah Tee', 'CV': 1267134}\n",
      "\n",
      "{'Clothes shop': 7, 'Furniture shop': 5, 'Grocery store': 1, 'Kiosk': 5, 'Toy store': 7, 'Player Name': 'Tran Hai Linh', 'CV': 1242550}\n",
      "\n",
      "{'Advertising agency': 1, 'Auto Repair Shop': 3, 'Carpentry': 3, 'Furniture shop': 4, 'Paper factory': 6, 'Sawmill': 8, 'Player Name': 'Serdar Yayan', 'CV': 1118843}\n",
      "\n",
      "{'Forest': 11, 'Kiosk': 4, 'Oil drill': 6, 'Quarry': 2, 'Wheat field': 2, 'Player Name': 'Nim Rod', 'CV': 1075487}\n",
      "\n",
      "{'Cotton field': 3, 'Oil drill': 15, 'Slaughterhouse': 2, 'Stone chopping house': 2, 'Toy store': 3, 'Player Name': 'Jason Wachovia', 'CV': 1021461}\n",
      "\n",
      "{'Forest': 6, 'Oil drill': 18, 'Pig farm': 1, 'Player Name': 'Dynax', 'CV': 986421}\n",
      "\n"
     ]
    }
   ],
   "source": [
    "for player in top10:\n",
    "    print(player, end = '\\n\\n')"
   ]
  },
  {
   "cell_type": "code",
   "execution_count": 8,
   "metadata": {
    "pycharm": {
     "is_executing": false
    }
   },
   "outputs": [],
   "source": [
    "def findAlts(name, regex = False):\n",
    "    accounts = []\n",
    "    accounts_df = buildings_by_company_with_leaderboard[buildings_by_company_with_leaderboard['Player Name'].str.contains(name, regex=regex)]\n",
    "    for i in range(len(accounts_df)):\n",
    "        player = dict(accounts_df.iloc[i])\n",
    "        player = {x:y for x,y in player.items() if y!=0}\n",
    "        accounts.append(player)\n",
    "    return accounts"
   ]
  },
  {
   "cell_type": "code",
   "execution_count": 9,
   "metadata": {
    "pycharm": {
     "is_executing": false
    }
   },
   "outputs": [],
   "source": [
    "def display_accounts(accounts):\n",
    "    for player in accounts:\n",
    "        print(player, end = '\\n\\n')"
   ]
  },
  {
   "cell_type": "code",
   "execution_count": 10,
   "metadata": {
    "pycharm": {
     "is_executing": false
    }
   },
   "outputs": [
    {
     "data": {
      "text/html": [
       "<div>\n",
       "<style scoped>\n",
       "    .dataframe tbody tr th:only-of-type {\n",
       "        vertical-align: middle;\n",
       "    }\n",
       "\n",
       "    .dataframe tbody tr th {\n",
       "        vertical-align: top;\n",
       "    }\n",
       "\n",
       "    .dataframe thead th {\n",
       "        text-align: right;\n",
       "    }\n",
       "</style>\n",
       "<table border=\"1\" class=\"dataframe\">\n",
       "  <thead>\n",
       "    <tr style=\"text-align: right;\">\n",
       "      <th></th>\n",
       "      <th>Advertising agency</th>\n",
       "      <th>Auto Repair Shop</th>\n",
       "      <th>Bakery</th>\n",
       "      <th>Brewery</th>\n",
       "      <th>Carpentry</th>\n",
       "      <th>Clinic</th>\n",
       "      <th>Clothes shop</th>\n",
       "      <th>Cotton field</th>\n",
       "      <th>Cotton mill</th>\n",
       "      <th>Fishing fleet</th>\n",
       "      <th>...</th>\n",
       "      <th>Sawmill</th>\n",
       "      <th>Slaughterhouse</th>\n",
       "      <th>Stone chopping house</th>\n",
       "      <th>Stone shop</th>\n",
       "      <th>Tailor workshop</th>\n",
       "      <th>Toy factory</th>\n",
       "      <th>Toy store</th>\n",
       "      <th>Wheat field</th>\n",
       "      <th>Player Name</th>\n",
       "      <th>CV</th>\n",
       "    </tr>\n",
       "    <tr>\n",
       "      <th>Company Name</th>\n",
       "      <th></th>\n",
       "      <th></th>\n",
       "      <th></th>\n",
       "      <th></th>\n",
       "      <th></th>\n",
       "      <th></th>\n",
       "      <th></th>\n",
       "      <th></th>\n",
       "      <th></th>\n",
       "      <th></th>\n",
       "      <th></th>\n",
       "      <th></th>\n",
       "      <th></th>\n",
       "      <th></th>\n",
       "      <th></th>\n",
       "      <th></th>\n",
       "      <th></th>\n",
       "      <th></th>\n",
       "      <th></th>\n",
       "      <th></th>\n",
       "      <th></th>\n",
       "    </tr>\n",
       "  </thead>\n",
       "  <tbody>\n",
       "    <tr>\n",
       "      <th>Muddy Ducks</th>\n",
       "      <td>0</td>\n",
       "      <td>0</td>\n",
       "      <td>0</td>\n",
       "      <td>5</td>\n",
       "      <td>0</td>\n",
       "      <td>0</td>\n",
       "      <td>0</td>\n",
       "      <td>0</td>\n",
       "      <td>0</td>\n",
       "      <td>0</td>\n",
       "      <td>...</td>\n",
       "      <td>9</td>\n",
       "      <td>0</td>\n",
       "      <td>5</td>\n",
       "      <td>0</td>\n",
       "      <td>0</td>\n",
       "      <td>0</td>\n",
       "      <td>0</td>\n",
       "      <td>0</td>\n",
       "      <td>Mikey Tee</td>\n",
       "      <td>1742693</td>\n",
       "    </tr>\n",
       "    <tr>\n",
       "      <th>Nani Industries</th>\n",
       "      <td>0</td>\n",
       "      <td>0</td>\n",
       "      <td>0</td>\n",
       "      <td>0</td>\n",
       "      <td>0</td>\n",
       "      <td>0</td>\n",
       "      <td>0</td>\n",
       "      <td>0</td>\n",
       "      <td>0</td>\n",
       "      <td>0</td>\n",
       "      <td>...</td>\n",
       "      <td>0</td>\n",
       "      <td>0</td>\n",
       "      <td>0</td>\n",
       "      <td>0</td>\n",
       "      <td>0</td>\n",
       "      <td>0</td>\n",
       "      <td>0</td>\n",
       "      <td>0</td>\n",
       "      <td>Teja</td>\n",
       "      <td>1373134</td>\n",
       "    </tr>\n",
       "    <tr>\n",
       "      <th>Happy Driller</th>\n",
       "      <td>0</td>\n",
       "      <td>0</td>\n",
       "      <td>0</td>\n",
       "      <td>0</td>\n",
       "      <td>0</td>\n",
       "      <td>0</td>\n",
       "      <td>0</td>\n",
       "      <td>0</td>\n",
       "      <td>0</td>\n",
       "      <td>0</td>\n",
       "      <td>...</td>\n",
       "      <td>0</td>\n",
       "      <td>0</td>\n",
       "      <td>0</td>\n",
       "      <td>0</td>\n",
       "      <td>0</td>\n",
       "      <td>0</td>\n",
       "      <td>0</td>\n",
       "      <td>0</td>\n",
       "      <td>Hannah Tee</td>\n",
       "      <td>1113152</td>\n",
       "    </tr>\n",
       "    <tr>\n",
       "      <th>Yuicorp</th>\n",
       "      <td>0</td>\n",
       "      <td>0</td>\n",
       "      <td>5</td>\n",
       "      <td>9</td>\n",
       "      <td>0</td>\n",
       "      <td>0</td>\n",
       "      <td>0</td>\n",
       "      <td>0</td>\n",
       "      <td>0</td>\n",
       "      <td>0</td>\n",
       "      <td>...</td>\n",
       "      <td>0</td>\n",
       "      <td>0</td>\n",
       "      <td>9</td>\n",
       "      <td>0</td>\n",
       "      <td>0</td>\n",
       "      <td>0</td>\n",
       "      <td>0</td>\n",
       "      <td>0</td>\n",
       "      <td>Yui Kyouko</td>\n",
       "      <td>1109392</td>\n",
       "    </tr>\n",
       "    <tr>\n",
       "      <th>Lemming Corp</th>\n",
       "      <td>0</td>\n",
       "      <td>0</td>\n",
       "      <td>0</td>\n",
       "      <td>2</td>\n",
       "      <td>0</td>\n",
       "      <td>0</td>\n",
       "      <td>1</td>\n",
       "      <td>0</td>\n",
       "      <td>7</td>\n",
       "      <td>0</td>\n",
       "      <td>...</td>\n",
       "      <td>0</td>\n",
       "      <td>0</td>\n",
       "      <td>3</td>\n",
       "      <td>0</td>\n",
       "      <td>0</td>\n",
       "      <td>0</td>\n",
       "      <td>3</td>\n",
       "      <td>0</td>\n",
       "      <td>Lanyard Fogarty</td>\n",
       "      <td>1103223</td>\n",
       "    </tr>\n",
       "    <tr>\n",
       "      <th>...</th>\n",
       "      <td>...</td>\n",
       "      <td>...</td>\n",
       "      <td>...</td>\n",
       "      <td>...</td>\n",
       "      <td>...</td>\n",
       "      <td>...</td>\n",
       "      <td>...</td>\n",
       "      <td>...</td>\n",
       "      <td>...</td>\n",
       "      <td>...</td>\n",
       "      <td>...</td>\n",
       "      <td>...</td>\n",
       "      <td>...</td>\n",
       "      <td>...</td>\n",
       "      <td>...</td>\n",
       "      <td>...</td>\n",
       "      <td>...</td>\n",
       "      <td>...</td>\n",
       "      <td>...</td>\n",
       "      <td>...</td>\n",
       "      <td>...</td>\n",
       "    </tr>\n",
       "    <tr>\n",
       "      <th>ZYY</th>\n",
       "      <td>0</td>\n",
       "      <td>0</td>\n",
       "      <td>0</td>\n",
       "      <td>0</td>\n",
       "      <td>0</td>\n",
       "      <td>0</td>\n",
       "      <td>0</td>\n",
       "      <td>0</td>\n",
       "      <td>0</td>\n",
       "      <td>0</td>\n",
       "      <td>...</td>\n",
       "      <td>0</td>\n",
       "      <td>1</td>\n",
       "      <td>0</td>\n",
       "      <td>0</td>\n",
       "      <td>0</td>\n",
       "      <td>0</td>\n",
       "      <td>0</td>\n",
       "      <td>0</td>\n",
       "      <td>YY YUE</td>\n",
       "      <td>1955</td>\n",
       "    </tr>\n",
       "    <tr>\n",
       "      <th>MCorpp875</th>\n",
       "      <td>0</td>\n",
       "      <td>0</td>\n",
       "      <td>0</td>\n",
       "      <td>0</td>\n",
       "      <td>0</td>\n",
       "      <td>0</td>\n",
       "      <td>0</td>\n",
       "      <td>0</td>\n",
       "      <td>0</td>\n",
       "      <td>0</td>\n",
       "      <td>...</td>\n",
       "      <td>1</td>\n",
       "      <td>0</td>\n",
       "      <td>0</td>\n",
       "      <td>0</td>\n",
       "      <td>0</td>\n",
       "      <td>0</td>\n",
       "      <td>0</td>\n",
       "      <td>0</td>\n",
       "      <td>mitch189 laskey</td>\n",
       "      <td>1900</td>\n",
       "    </tr>\n",
       "    <tr>\n",
       "      <th>for with of</th>\n",
       "      <td>0</td>\n",
       "      <td>0</td>\n",
       "      <td>0</td>\n",
       "      <td>0</td>\n",
       "      <td>0</td>\n",
       "      <td>0</td>\n",
       "      <td>0</td>\n",
       "      <td>0</td>\n",
       "      <td>0</td>\n",
       "      <td>0</td>\n",
       "      <td>...</td>\n",
       "      <td>0</td>\n",
       "      <td>0</td>\n",
       "      <td>0</td>\n",
       "      <td>0</td>\n",
       "      <td>0</td>\n",
       "      <td>0</td>\n",
       "      <td>0</td>\n",
       "      <td>2</td>\n",
       "      <td>Bibi Jiuii</td>\n",
       "      <td>1522</td>\n",
       "    </tr>\n",
       "    <tr>\n",
       "      <th>Tyson</th>\n",
       "      <td>0</td>\n",
       "      <td>0</td>\n",
       "      <td>0</td>\n",
       "      <td>0</td>\n",
       "      <td>0</td>\n",
       "      <td>0</td>\n",
       "      <td>0</td>\n",
       "      <td>0</td>\n",
       "      <td>0</td>\n",
       "      <td>1</td>\n",
       "      <td>...</td>\n",
       "      <td>0</td>\n",
       "      <td>0</td>\n",
       "      <td>0</td>\n",
       "      <td>0</td>\n",
       "      <td>0</td>\n",
       "      <td>0</td>\n",
       "      <td>0</td>\n",
       "      <td>0</td>\n",
       "      <td>Bilal Zidane</td>\n",
       "      <td>921</td>\n",
       "    </tr>\n",
       "    <tr>\n",
       "      <th>Feng</th>\n",
       "      <td>0</td>\n",
       "      <td>0</td>\n",
       "      <td>0</td>\n",
       "      <td>0</td>\n",
       "      <td>0</td>\n",
       "      <td>0</td>\n",
       "      <td>0</td>\n",
       "      <td>0</td>\n",
       "      <td>0</td>\n",
       "      <td>0</td>\n",
       "      <td>...</td>\n",
       "      <td>0</td>\n",
       "      <td>0</td>\n",
       "      <td>0</td>\n",
       "      <td>0</td>\n",
       "      <td>0</td>\n",
       "      <td>0</td>\n",
       "      <td>0</td>\n",
       "      <td>1</td>\n",
       "      <td>Mike &amp;#37329;&amp;#23</td>\n",
       "      <td>308</td>\n",
       "    </tr>\n",
       "  </tbody>\n",
       "</table>\n",
       "<p>508 rows × 36 columns</p>\n",
       "</div>"
      ],
      "text/plain": [
       "                 Advertising agency  Auto Repair Shop  Bakery  Brewery  \\\n",
       "Company Name                                                             \n",
       "Muddy Ducks                       0                 0       0        5   \n",
       "Nani Industries                   0                 0       0        0   \n",
       "Happy Driller                     0                 0       0        0   \n",
       "Yuicorp                           0                 0       5        9   \n",
       "Lemming Corp                      0                 0       0        2   \n",
       "...                             ...               ...     ...      ...   \n",
       "ZYY                               0                 0       0        0   \n",
       "MCorpp875                         0                 0       0        0   \n",
       "for with of                       0                 0       0        0   \n",
       "Tyson                             0                 0       0        0   \n",
       "Feng                              0                 0       0        0   \n",
       "\n",
       "                 Carpentry  Clinic  Clothes shop  Cotton field  Cotton mill  \\\n",
       "Company Name                                                                  \n",
       "Muddy Ducks              0       0             0             0            0   \n",
       "Nani Industries          0       0             0             0            0   \n",
       "Happy Driller            0       0             0             0            0   \n",
       "Yuicorp                  0       0             0             0            0   \n",
       "Lemming Corp             0       0             1             0            7   \n",
       "...                    ...     ...           ...           ...          ...   \n",
       "ZYY                      0       0             0             0            0   \n",
       "MCorpp875                0       0             0             0            0   \n",
       "for with of              0       0             0             0            0   \n",
       "Tyson                    0       0             0             0            0   \n",
       "Feng                     0       0             0             0            0   \n",
       "\n",
       "                 Fishing fleet  ...  Sawmill  Slaughterhouse  \\\n",
       "Company Name                    ...                            \n",
       "Muddy Ducks                  0  ...        9               0   \n",
       "Nani Industries              0  ...        0               0   \n",
       "Happy Driller                0  ...        0               0   \n",
       "Yuicorp                      0  ...        0               0   \n",
       "Lemming Corp                 0  ...        0               0   \n",
       "...                        ...  ...      ...             ...   \n",
       "ZYY                          0  ...        0               1   \n",
       "MCorpp875                    0  ...        1               0   \n",
       "for with of                  0  ...        0               0   \n",
       "Tyson                        1  ...        0               0   \n",
       "Feng                         0  ...        0               0   \n",
       "\n",
       "                 Stone chopping house  Stone shop  Tailor workshop  \\\n",
       "Company Name                                                         \n",
       "Muddy Ducks                         5           0                0   \n",
       "Nani Industries                     0           0                0   \n",
       "Happy Driller                       0           0                0   \n",
       "Yuicorp                             9           0                0   \n",
       "Lemming Corp                        3           0                0   \n",
       "...                               ...         ...              ...   \n",
       "ZYY                                 0           0                0   \n",
       "MCorpp875                           0           0                0   \n",
       "for with of                         0           0                0   \n",
       "Tyson                               0           0                0   \n",
       "Feng                                0           0                0   \n",
       "\n",
       "                 Toy factory  Toy store  Wheat field        Player Name  \\\n",
       "Company Name                                                              \n",
       "Muddy Ducks                0          0            0          Mikey Tee   \n",
       "Nani Industries            0          0            0               Teja   \n",
       "Happy Driller              0          0            0         Hannah Tee   \n",
       "Yuicorp                    0          0            0         Yui Kyouko   \n",
       "Lemming Corp               0          3            0    Lanyard Fogarty   \n",
       "...                      ...        ...          ...                ...   \n",
       "ZYY                        0          0            0             YY YUE   \n",
       "MCorpp875                  0          0            0    mitch189 laskey   \n",
       "for with of                0          0            2         Bibi Jiuii   \n",
       "Tyson                      0          0            0       Bilal Zidane   \n",
       "Feng                       0          0            1  Mike &#37329;&#23   \n",
       "\n",
       "                      CV  \n",
       "Company Name              \n",
       "Muddy Ducks      1742693  \n",
       "Nani Industries  1373134  \n",
       "Happy Driller    1113152  \n",
       "Yuicorp          1109392  \n",
       "Lemming Corp     1103223  \n",
       "...                  ...  \n",
       "ZYY                 1955  \n",
       "MCorpp875           1900  \n",
       "for with of         1522  \n",
       "Tyson                921  \n",
       "Feng                 308  \n",
       "\n",
       "[508 rows x 36 columns]"
      ]
     },
     "execution_count": 10,
     "metadata": {},
     "output_type": "execute_result"
    }
   ],
   "source": [
    "buildings_by_company_with_leaderboard"
   ]
  },
  {
   "cell_type": "markdown",
   "metadata": {},
   "source": [
    "## Mikey Tee and alts\n",
    "Alts either fully chained from tier 1 to shops, or all offices. Don't seem to be directly helping main account."
   ]
  },
  {
   "cell_type": "code",
   "execution_count": 11,
   "metadata": {
    "pycharm": {
     "is_executing": false
    }
   },
   "outputs": [
    {
     "name": "stdout",
     "output_type": "stream",
     "text": [
      "{'Brewery': 5, 'Paper factory': 6, 'Sawmill': 9, 'Stone chopping house': 5, 'Player Name': 'Mikey Tee', 'CV': 1742693}\n",
      "\n",
      "{'Clothes shop': 9, 'Cotton field': 4, 'Cotton mill': 6, 'Tailor workshop': 6, 'Player Name': 'Mikey Tees', 'CV': 616277}\n",
      "\n",
      "{'Painter shop': 3, 'Quarry': 9, 'Stone chopping house': 2, 'Stone shop': 11, 'Player Name': 'Mikey Teee', 'CV': 432250}\n",
      "\n",
      "{'Bakery': 3, 'Brewery': 2, 'Flourmill': 6, 'Wheat field': 14, 'Player Name': 'Mikey Teeee', 'CV': 427179}\n",
      "\n",
      "{'Advertising agency': 10, 'Auto Repair Shop': 11, 'Clinic': 2, 'Painter shop': 2, 'Player Name': 'Mikeys Tee', 'CV': 330845}\n",
      "\n"
     ]
    }
   ],
   "source": [
    "mikey = findAlts('Mikey')\n",
    "display_accounts(mikey)"
   ]
  },
  {
   "cell_type": "markdown",
   "metadata": {},
   "source": [
    "## Teja and alts\n",
    "Is using chained alts to supply goods for 25 shops on main account"
   ]
  },
  {
   "cell_type": "code",
   "execution_count": 12,
   "metadata": {},
   "outputs": [
    {
     "name": "stdout",
     "output_type": "stream",
     "text": [
      "{'Carpentry': 3, 'Forest': 3, 'Sawmill': 5, 'Stone chopping house': 14, 'Player Name': 'TinTin Da', 'CV': 195425}\n",
      "\n"
     ]
    }
   ],
   "source": [
    "teja = findAlts('TinTin')\n",
    "display_accounts(teja)"
   ]
  },
  {
   "cell_type": "code",
   "execution_count": 13,
   "metadata": {
    "pycharm": {
     "is_executing": false
    }
   },
   "outputs": [
    {
     "name": "stdout",
     "output_type": "stream",
     "text": [
      "{'Bakery': 3, 'Flourmill': 5, 'Quarry': 4, 'Stone chopping house': 2, 'Wheat field': 11, 'Player Name': 'Tycoon Multi4', 'CV': 304912}\n",
      "\n",
      "{'Forest': 8, 'Newspaper printing house': 6, 'Paper factory': 8, 'Player Name': 'Tycoon Multi1', 'CV': 277991}\n",
      "\n",
      "{'Forest': 9, 'Newspaper printing house': 6, 'Paper factory': 6, 'Player Name': 'Tycoon Multi3', 'CV': 267070}\n",
      "\n",
      "{'Bakery': 3, 'Flourmill': 6, 'Quarry': 1, 'Stone chopping house': 1, 'Wheat field': 11, 'Player Name': 'Tycoon Multi5', 'CV': 243220}\n",
      "\n",
      "{'Bakery': 2, 'Brewery': 3, 'Flourmill': 5, 'Wheat field': 10, 'Player Name': 'Tycoon Multi6', 'CV': 207423}\n",
      "\n",
      "{'Bakery': 1, 'Fishing fleet': 4, 'Flourmill': 1, 'Harbor': 4, 'Wheat field': 2, 'Player Name': 'Tycoon Multi9', 'CV': 112420}\n",
      "\n",
      "{'Newspaper printing house': 1, 'Paper factory': 1, 'Pig farm': 4, 'Slaughterhouse': 3, 'Player Name': 'Tycoon Multi7', 'CV': 103769}\n",
      "\n",
      "{'Newspaper printing house': 1, 'Pig farm': 3, 'Slaughterhouse': 4, 'Player Name': 'Tycoon Multi8', 'CV': 62467}\n",
      "\n",
      "{'Flourmill': 1, 'Wheat field': 2, 'Player Name': 'Tycoon Multi 21', 'CV': 10192}\n",
      "\n",
      "{'Flourmill': 1, 'Wheat field': 2, 'Player Name': 'Tycoon Multi 14', 'CV': 10166}\n",
      "\n",
      "{'Flourmill': 1, 'Wheat field': 2, 'Player Name': 'Tycoon Multi 13', 'CV': 10068}\n",
      "\n",
      "{'Flourmill': 1, 'Wheat field': 2, 'Player Name': 'Tycoon Multi 19', 'CV': 9950}\n",
      "\n",
      "{'Flourmill': 1, 'Wheat field': 2, 'Player Name': 'Tycoon Multi 15', 'CV': 9941}\n",
      "\n",
      "{'Flourmill': 1, 'Wheat field': 2, 'Player Name': 'Tycoon Multi 16', 'CV': 9895}\n",
      "\n",
      "{'Flourmill': 1, 'Wheat field': 2, 'Player Name': 'Tycoon Multi 18', 'CV': 9815}\n",
      "\n",
      "{'Flourmill': 1, 'Wheat field': 2, 'Player Name': 'Tycoon Multi 24', 'CV': 9780}\n",
      "\n",
      "{'Flourmill': 1, 'Wheat field': 2, 'Player Name': 'Tycoon Multi 25', 'CV': 9703}\n",
      "\n",
      "{'Flourmill': 1, 'Wheat field': 2, 'Player Name': 'Tycoon Multi 22', 'CV': 9342}\n",
      "\n",
      "{'Wheat field': 1, 'Player Name': 'Tycoon Multi 23', 'CV': 6960}\n",
      "\n",
      "{'Flourmill': 1, 'Wheat field': 2, 'Player Name': 'Tycoon Multi 20', 'CV': 6326}\n",
      "\n",
      "{'Wheat field': 2, 'Player Name': 'Tycoon Multi 12', 'CV': 6027}\n",
      "\n",
      "{'Flourmill': 1, 'Wheat field': 2, 'Player Name': 'Tycoon Multi 11', 'CV': 4772}\n",
      "\n",
      "{'Wheat field': 2, 'Player Name': 'Tycoon Multi 17', 'CV': 3970}\n",
      "\n"
     ]
    }
   ],
   "source": [
    "teja = findAlts('Tycoon Multi')\n",
    "display_accounts(teja)"
   ]
  },
  {
   "cell_type": "markdown",
   "metadata": {},
   "source": [
    "## Botbot\n",
    "Created by Jay Chen."
   ]
  },
  {
   "cell_type": "code",
   "execution_count": 14,
   "metadata": {
    "pycharm": {
     "is_executing": false
    }
   },
   "outputs": [
    {
     "name": "stdout",
     "output_type": "stream",
     "text": [
      "{'Plastic industry': 5, 'Quarry': 20, 'Player Name': 'Bot Bot5', 'CV': 706216}\n",
      "\n",
      "{'Cotton mill': 17, 'Pig farm': 8, 'Player Name': 'Bot Bot11', 'CV': 489153}\n",
      "\n",
      "{'Fishing fleet': 12, 'Oil drill': 10, 'Toy factory': 3, 'Player Name': 'Bot Bot3', 'CV': 438611}\n",
      "\n",
      "{'Oil drill': 16, 'Slaughterhouse': 9, 'Player Name': 'Bot Bot7', 'CV': 437853}\n",
      "\n",
      "{'Plastic industry': 8, 'Quarry': 6, 'Refinery': 11, 'Player Name': 'Bot Bot2', 'CV': 417271}\n",
      "\n",
      "{'Fishing fleet': 16, 'Forest': 9, 'Player Name': 'Bot Bot15', 'CV': 403399}\n",
      "\n",
      "{'Fishing fleet': 9, 'Forest': 7, 'Oil drill': 9, 'Player Name': 'Bot Bot4', 'CV': 387131}\n",
      "\n",
      "{'Pig farm': 9, 'Plastic industry': 4, 'Quarry': 6, 'Refinery': 6, 'Player Name': 'Bot Bot9', 'CV': 378965}\n",
      "\n",
      "{'Fishing fleet': 16, 'Forest': 9, 'Player Name': 'Bot Bot18', 'CV': 372856}\n",
      "\n",
      "{'Harbor': 10, 'Oil drill': 15, 'Player Name': 'Bot Bot1', 'CV': 363538}\n",
      "\n",
      "{'Pig farm': 17, 'Quarry': 8, 'Player Name': 'Bot Bot10', 'CV': 345520}\n",
      "\n",
      "{'Cotton field': 11, 'Forest': 7, 'Quarry': 6, 'Player Name': 'Bot Bot12', 'CV': 336343}\n",
      "\n",
      "{'Fishing fleet': 14, 'Forest': 11, 'Player Name': 'Bot Bot16', 'CV': 326023}\n",
      "\n",
      "{'Cotton field': 7, 'Quarry': 13, 'Tailor workshop': 5, 'Player Name': 'Bot Bot14', 'CV': 322493}\n",
      "\n",
      "{'Forest': 9, 'Painter shop': 1, 'Pig farm': 10, 'Quarry': 5, 'Player Name': 'Bot Bot8', 'CV': 294221}\n",
      "\n",
      "{'Forest': 9, 'Painter shop': 1, 'Quarry': 13, 'Player Name': 'Bot Bot6', 'CV': 290929}\n",
      "\n",
      "{'Auto Repair Shop': 1, 'Forest': 8, 'Quarry': 12, 'Player Name': 'Bot Bot17', 'CV': 290601}\n",
      "\n",
      "{'Forest': 12, 'Pig farm': 5, 'Quarry': 4, 'Player Name': 'Bot Bot13', 'CV': 283880}\n",
      "\n",
      "{'Forest': 8, 'Pig farm': 6, 'Quarry': 5, 'Player Name': 'Bot Bot19', 'CV': 219750}\n",
      "\n"
     ]
    },
    {
     "data": {
      "text/plain": [
       "19"
      ]
     },
     "execution_count": 14,
     "metadata": {},
     "output_type": "execute_result"
    }
   ],
   "source": [
    "botbot = findAlts('Bot Bot')\n",
    "display_accounts(botbot)\n",
    "len(botbot)"
   ]
  },
  {
   "cell_type": "markdown",
   "metadata": {},
   "source": [
    "## Wooden blade"
   ]
  },
  {
   "cell_type": "code",
   "execution_count": 15,
   "metadata": {
    "pycharm": {
     "is_executing": false
    }
   },
   "outputs": [
    {
     "name": "stdout",
     "output_type": "stream",
     "text": [
      "{'Advertising agency': 1, 'Auto Repair Shop': 3, 'Carpentry': 3, 'Furniture shop': 4, 'Paper factory': 6, 'Sawmill': 8, 'Player Name': 'Serdar Yayan', 'CV': 943529}\n",
      "\n",
      "{'Forest': 16, 'Player Name': 'Serdar1 Yayan1', 'CV': 255891}\n",
      "\n",
      "{'Forest': 15, 'Player Name': 'Serdar3 Yayan3', 'CV': 249514}\n",
      "\n",
      "{'Forest': 15, 'Player Name': 'Serdar7 Yayan7', 'CV': 239619}\n",
      "\n",
      "{'Forest': 15, 'Player Name': 'Serdar6 Yayan6', 'CV': 237420}\n",
      "\n",
      "{'Forest': 16, 'Player Name': 'Serdar2 Yayan2', 'CV': 228551}\n",
      "\n",
      "{'Forest': 14, 'Player Name': 'Serdar4 Yayan4', 'CV': 218227}\n",
      "\n",
      "{'Forest': 6, 'Player Name': 'Serdar10 Yayan10', 'CV': 60450}\n",
      "\n",
      "{'Forest': 6, 'Player Name': 'Serdar9 Yayan9', 'CV': 55974}\n",
      "\n",
      "{'Forest': 6, 'Player Name': 'Serdar8 Yayan8', 'CV': 50976}\n",
      "\n"
     ]
    }
   ],
   "source": [
    "woodenBlade = findAlts('Serdar')\n",
    "display_accounts(woodenBlade)"
   ]
  },
  {
   "cell_type": "markdown",
   "metadata": {},
   "source": [
    "## Ricardo Milos"
   ]
  },
  {
   "cell_type": "code",
   "execution_count": 16,
   "metadata": {
    "pycharm": {
     "is_executing": false
    }
   },
   "outputs": [
    {
     "name": "stdout",
     "output_type": "stream",
     "text": [
      "{'Plastic industry': 14, 'Toy factory': 6, 'Toy store': 5, 'Player Name': 'Ricardo Milos VI', 'CV': 703208}\n",
      "\n",
      "{'Advertising agency': 4, 'Forest': 3, 'Grocery store': 11, 'Stone shop': 4, 'Toy store': 3, 'Player Name': 'Ricardo Milos', 'CV': 640150}\n",
      "\n",
      "{'Auto Repair Shop': 1, 'Forest': 2, 'Kiosk': 10, 'Newspaper printing house': 7, 'Painter shop': 1, 'Paper factory': 4, 'Player Name': 'Ricardo Milos V', 'CV': 341989}\n",
      "\n",
      "{'Oil drill': 14, 'Plastic industry': 7, 'Toy factory': 4, 'Player Name': 'Ricardo Milos III', 'CV': 298206}\n",
      "\n",
      "{'Slaughterhouse': 18, 'Player Name': 'Ricardo Milos II', 'CV': 68856}\n",
      "\n",
      "{'Gas station': 8, 'Player Name': 'Ricardo Milos VIII', 'CV': 13729}\n",
      "\n",
      "{'Quarry': 5, 'Player Name': 'Ricardo Milos IV', 'CV': 13614}\n",
      "\n",
      "{'Wheat field': 4, 'Player Name': 'Ricardo Milos VII', 'CV': 12573}\n",
      "\n",
      "{'Cotton field': 2, 'Player Name': 'Ricardo Milos IX', 'CV': 5990}\n",
      "\n"
     ]
    }
   ],
   "source": [
    "milos = findAlts('Ricardo Milos')\n",
    "display_accounts(milos)"
   ]
  },
  {
   "cell_type": "markdown",
   "metadata": {},
   "source": [
    "## Yong CS"
   ]
  },
  {
   "cell_type": "code",
   "execution_count": 17,
   "metadata": {
    "pycharm": {
     "is_executing": false
    }
   },
   "outputs": [
    {
     "name": "stdout",
     "output_type": "stream",
     "text": [
      "{'Advertising agency': 2, 'Auto Repair Shop': 3, 'Clinic': 2, 'Clothes shop': 2, 'Gas station': 6, 'Tailor workshop': 2, 'Toy factory': 1, 'Toy store': 6, 'Player Name': 'Yong CS-1', 'CV': 360083}\n",
      "\n",
      "{'Advertising agency': 3, 'Auto Repair Shop': 1, 'Plastic industry': 3, 'Refinery': 1, 'Toy factory': 7, 'Toy store': 2, 'Player Name': 'Yong CS', 'CV': 249228}\n",
      "\n",
      "{'Auto Repair Shop': 2, 'Clinic': 1, 'Oil drill': 1, 'Refinery': 2, 'Toy factory': 7, 'Toy store': 3, 'Player Name': 'Yong CS-2', 'CV': 209329}\n",
      "\n"
     ]
    }
   ],
   "source": [
    "yongCS = findAlts('Yong CS')\n",
    "display_accounts(yongCS)"
   ]
  },
  {
   "cell_type": "code",
   "execution_count": 18,
   "metadata": {},
   "outputs": [
    {
     "name": "stdout",
     "output_type": "stream",
     "text": [
      "{'Clothes shop': 11, 'Cotton mill': 5, 'Tailor workshop': 9, 'Player Name': 'Stela Yonamine', 'CV': 716487}\n",
      "\n"
     ]
    }
   ],
   "source": [
    "display_accounts(findAlts('Stela Yonamine'))"
   ]
  },
  {
   "cell_type": "code",
   "execution_count": 19,
   "metadata": {
    "pycharm": {
     "is_executing": false
    }
   },
   "outputs": [
    {
     "data": {
      "text/plain": [
       "Rank\n",
       "1          Muddy Ducks\n",
       "2      Nani Industries\n",
       "3        Happy Driller\n",
       "4              Yuicorp\n",
       "5         Lemming Corp\n",
       "            ...       \n",
       "550          MCorpp875\n",
       "551         MILFORTUNE\n",
       "552        for with of\n",
       "553              Tyson\n",
       "554               Feng\n",
       "Name: Company Name, Length: 554, dtype: object"
      ]
     },
     "execution_count": 19,
     "metadata": {},
     "output_type": "execute_result"
    }
   ],
   "source": [
    "leaderboard['Company Name']"
   ]
  }
 ],
 "metadata": {
  "kernelspec": {
   "display_name": "Python 3",
   "language": "python",
   "name": "python3"
  },
  "language_info": {
   "codemirror_mode": {
    "name": "ipython",
    "version": 3
   },
   "file_extension": ".py",
   "mimetype": "text/x-python",
   "name": "python",
   "nbconvert_exporter": "python",
   "pygments_lexer": "ipython3",
   "version": "3.7.6"
  },
  "pycharm": {
   "stem_cell": {
    "cell_type": "raw",
    "metadata": {
     "collapsed": false
    },
    "source": []
   }
  }
 },
 "nbformat": 4,
 "nbformat_minor": 4
}
