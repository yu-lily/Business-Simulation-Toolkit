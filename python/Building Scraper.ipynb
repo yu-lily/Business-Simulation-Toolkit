{
 "cells": [
  {
   "cell_type": "code",
   "execution_count": null,
   "metadata": {},
   "outputs": [],
   "source": [
    "USERNAME = \n",
    "PASSWORD = "
   ]
  },
  {
   "cell_type": "code",
   "execution_count": 1,
   "metadata": {
    "pycharm": {
     "is_executing": false
    }
   },
   "outputs": [],
   "source": [
    "import os\n",
    "import time\n",
    "from datetime import date\n",
    "\n",
    "import Driver\n",
    "import pandas as pd\n",
    "from bs4 import BeautifulSoup\n",
    "from selenium.common.exceptions import NoSuchElementException"
   ]
  },
  {
   "cell_type": "code",
   "execution_count": 2,
   "metadata": {
    "pycharm": {
     "is_executing": false
    }
   },
   "outputs": [],
   "source": [
    "from numpy.random import randint\n",
    "\n",
    "def waitRand(maxTime=3):\n",
    "    waitTime = randint(1,maxTime+1)\n",
    "    time.sleep(waitTime)"
   ]
  },
  {
   "cell_type": "code",
   "execution_count": 3,
   "metadata": {
    "pycharm": {
     "is_executing": false
    }
   },
   "outputs": [],
   "source": [
    "import pickle\n",
    "with open('imageToBuilding.pkl', 'rb') as f:\n",
    "    imageToBuilding = pickle.load(f)"
   ]
  },
  {
   "cell_type": "code",
   "execution_count": 4,
   "metadata": {
    "pycharm": {
     "is_executing": false
    }
   },
   "outputs": [],
   "source": [
    "def find_coords(map_grid):\n",
    "    \"\"\"\n",
    "    map_grid: List of strings, attributes of elements in map table\n",
    "    Outputs list of x, y coords.\n",
    "    \"\"\"\n",
    "    mapped_map_grid = list(map(lambda x: x.get_attribute('onmouseover').split(','), map_grid))\n",
    "    filtered_map_grid = list(filter(lambda x: int(x[6]) - int(x[5]) != 0, mapped_map_grid))\n",
    "    coord_list = list(map(lambda x: [int(x[1]), int(x[2])], filtered_map_grid))\n",
    "    return coord_list"
   ]
  },
  {
   "cell_type": "code",
   "execution_count": 5,
   "metadata": {
    "pycharm": {
     "is_executing": false
    }
   },
   "outputs": [],
   "source": [
    "def extract_building_info(map_tiles):\n",
    "    def get_raw_info(element):\n",
    "        img_url = 'https://usa.tycoononline.com/' + element['src']\n",
    "        building_type = imageToBuilding.get(img_url, None)\n",
    "        if building_type is None:\n",
    "            return None\n",
    "        mouseover_info = element['onmouseover'].split(\"'\")\n",
    "        company_name = mouseover_info[1]\n",
    "        player_name = mouseover_info[5]\n",
    "        road_bonus = mouseover_info[7]\n",
    "        return [building_type, company_name, player_name, road_bonus]\n",
    "    \n",
    "    mapped_map_tiles = list(map(get_raw_info, map_tiles))\n",
    "    filtered_map_tiles = list(filter(lambda x: x, mapped_map_tiles))\n",
    "    def fix_my_jank_shit(outer_tuple):\n",
    "        building_type = outer_tuple[0]\n",
    "        company_name = outer_tuple[1][3].strip(\"'\")\n",
    "        player_name = outer_tuple[1][5].strip(\"'\")\n",
    "        road_bonus = outer_tuple[1][6].strip(\"'\")\n",
    "        return [building_type, company_name, player_name, road_bonus]\n",
    "    \n",
    "    return filtered_map_tiles"
   ]
  },
  {
   "cell_type": "code",
   "execution_count": 6,
   "metadata": {
    "pycharm": {
     "is_executing": false
    }
   },
   "outputs": [],
   "source": [
    "driver = Driver.Driver()\n",
    "driver.login(USERNAME, PASSWORD)"
   ]
  },
  {
   "cell_type": "code",
   "execution_count": 7,
   "metadata": {},
   "outputs": [
    {
     "name": "stdout",
     "output_type": "stream",
     "text": [
      "\n",
      "Found coordinates for city 1, total of 36 occupied tiles.\n",
      "Logged 33 buildings for x=06, y=01 in city 1.\n",
      "Logged 36 buildings for x=07, y=01 in city 1.\n",
      "Logged 31 buildings for x=07, y=02 in city 1.\n",
      "Logged 27 buildings for x=07, y=03 in city 1.\n",
      "Logged 37 buildings for x=03, y=04 in city 1.\n",
      "Logged 39 buildings for x=04, y=04 in city 1.\n",
      "Logged 37 buildings for x=05, y=04 in city 1.\n",
      "Logged 28 buildings for x=06, y=04 in city 1.\n",
      "Logged 30 buildings for x=07, y=04 in city 1.\n",
      "Logged 16 buildings for x=08, y=04 in city 1.\n",
      "Logged 02 buildings for x=15, y=04 in city 1.\n",
      "Logged 03 buildings for x=16, y=04 in city 1.\n",
      "Logged 35 buildings for x=07, y=05 in city 1.\n",
      "Logged 65 buildings for x=15, y=05 in city 1.\n",
      "Logged 08 buildings for x=16, y=05 in city 1.\n",
      "Logged 29 buildings for x=17, y=08 in city 1.\n",
      "Logged 28 buildings for x=17, y=09 in city 1.\n",
      "Logged 21 buildings for x=05, y=10 in city 1.\n",
      "Logged 40 buildings for x=06, y=10 in city 1.\n",
      "Logged 56 buildings for x=07, y=10 in city 1.\n",
      "Logged 34 buildings for x=17, y=10 in city 1.\n",
      "Logged 47 buildings for x=18, y=10 in city 1.\n",
      "Logged 41 buildings for x=19, y=10 in city 1.\n",
      "Logged 24 buildings for x=05, y=11 in city 1.\n",
      "Logged 36 buildings for x=06, y=11 in city 1.\n",
      "Logged 47 buildings for x=07, y=11 in city 1.\n",
      "Logged 25 buildings for x=17, y=11 in city 1.\n",
      "Logged 32 buildings for x=18, y=11 in city 1.\n",
      "Logged 35 buildings for x=17, y=12 in city 1.\n",
      "Logged 27 buildings for x=06, y=15 in city 1.\n",
      "Logged 23 buildings for x=07, y=15 in city 1.\n",
      "Logged 25 buildings for x=06, y=16 in city 1.\n",
      "Logged 30 buildings for x=07, y=16 in city 1.\n",
      "Logged 32 buildings for x=06, y=17 in city 1.\n",
      "Logged 28 buildings for x=07, y=17 in city 1.\n",
      "Logged 22 buildings for x=08, y=17 in city 1.\n",
      "\n",
      "Found coordinates for city 2, total of 36 occupied tiles.\n",
      "Logged 00 buildings for x=01, y=01 in city 2.\n",
      "Logged 31 buildings for x=05, y=02 in city 2.\n",
      "Logged 39 buildings for x=06, y=02 in city 2.\n",
      "Logged 30 buildings for x=07, y=02 in city 2.\n",
      "Logged 38 buildings for x=05, y=03 in city 2.\n",
      "Logged 37 buildings for x=06, y=03 in city 2.\n",
      "Logged 38 buildings for x=07, y=03 in city 2.\n",
      "Logged 30 buildings for x=08, y=03 in city 2.\n",
      "Logged 28 buildings for x=07, y=04 in city 2.\n",
      "Logged 03 buildings for x=15, y=04 in city 2.\n",
      "Logged 01 buildings for x=16, y=04 in city 2.\n",
      "Logged 01 buildings for x=01, y=05 in city 2.\n",
      "Logged 05 buildings for x=15, y=05 in city 2.\n",
      "Logged 01 buildings for x=16, y=05 in city 2.\n",
      "Logged 01 buildings for x=01, y=06 in city 2.\n",
      "Logged 15 buildings for x=17, y=08 in city 2.\n",
      "Logged 74 buildings for x=07, y=09 in city 2.\n",
      "Logged 69 buildings for x=08, y=09 in city 2.\n",
      "Logged 46 buildings for x=16, y=09 in city 2.\n",
      "Logged 39 buildings for x=17, y=09 in city 2.\n",
      "Logged 31 buildings for x=18, y=09 in city 2.\n",
      "Logged 05 buildings for x=05, y=10 in city 2.\n",
      "Logged 54 buildings for x=06, y=10 in city 2.\n",
      "Logged 57 buildings for x=07, y=10 in city 2.\n",
      "Logged 57 buildings for x=08, y=10 in city 2.\n",
      "Logged 55 buildings for x=09, y=10 in city 2.\n",
      "Logged 41 buildings for x=17, y=10 in city 2.\n",
      "Logged 44 buildings for x=18, y=10 in city 2.\n",
      "Logged 33 buildings for x=17, y=11 in city 2.\n",
      "Logged 45 buildings for x=18, y=11 in city 2.\n",
      "Logged 38 buildings for x=19, y=11 in city 2.\n",
      "Logged 29 buildings for x=20, y=11 in city 2.\n",
      "Logged 22 buildings for x=18, y=12 in city 2.\n",
      "Logged 32 buildings for x=07, y=16 in city 2.\n",
      "Logged 45 buildings for x=06, y=17 in city 2.\n",
      "Logged 43 buildings for x=07, y=17 in city 2.\n",
      "\n",
      "Found coordinates for city 3, total of 19 occupied tiles.\n",
      "Logged 37 buildings for x=04, y=02 in city 3.\n",
      "Logged 35 buildings for x=05, y=02 in city 3.\n",
      "Logged 40 buildings for x=06, y=02 in city 3.\n",
      "Logged 34 buildings for x=05, y=03 in city 3.\n",
      "Logged 36 buildings for x=06, y=03 in city 3.\n",
      "Logged 41 buildings for x=07, y=03 in city 3.\n",
      "Logged 03 buildings for x=15, y=04 in city 3.\n",
      "Logged 01 buildings for x=16, y=04 in city 3.\n",
      "Logged 02 buildings for x=15, y=05 in city 3.\n",
      "Logged 04 buildings for x=16, y=05 in city 3.\n",
      "Logged 48 buildings for x=07, y=10 in city 3.\n",
      "Logged 44 buildings for x=08, y=10 in city 3.\n",
      "Logged 38 buildings for x=17, y=10 in city 3.\n",
      "Logged 24 buildings for x=18, y=10 in city 3.\n",
      "Logged 22 buildings for x=19, y=10 in city 3.\n",
      "Logged 30 buildings for x=07, y=11 in city 3.\n",
      "Logged 29 buildings for x=17, y=11 in city 3.\n",
      "Logged 33 buildings for x=07, y=16 in city 3.\n",
      "Logged 39 buildings for x=07, y=17 in city 3.\n",
      "\n",
      "Found coordinates for city 4, total of 17 occupied tiles.\n",
      "Logged 47 buildings for x=07, y=03 in city 4.\n",
      "Logged 22 buildings for x=17, y=09 in city 4.\n",
      "Logged 15 buildings for x=04, y=10 in city 4.\n",
      "Logged 34 buildings for x=17, y=10 in city 4.\n",
      "Logged 28 buildings for x=18, y=10 in city 4.\n",
      "Logged 27 buildings for x=04, y=11 in city 4.\n",
      "Logged 40 buildings for x=05, y=11 in city 4.\n",
      "Logged 39 buildings for x=06, y=11 in city 4.\n",
      "Logged 23 buildings for x=17, y=11 in city 4.\n",
      "Logged 25 buildings for x=06, y=16 in city 4.\n",
      "Logged 30 buildings for x=07, y=16 in city 4.\n",
      "Logged 26 buildings for x=08, y=16 in city 4.\n",
      "Logged 26 buildings for x=06, y=17 in city 4.\n",
      "Logged 49 buildings for x=07, y=17 in city 4.\n",
      "Logged 29 buildings for x=08, y=17 in city 4.\n",
      "Logged 27 buildings for x=07, y=18 in city 4.\n",
      "Logged 12 buildings for x=08, y=18 in city 4.\n",
      "\n",
      "Found coordinates for city 5, total of 26 occupied tiles.\n",
      "Logged 34 buildings for x=05, y=03 in city 5.\n",
      "Logged 41 buildings for x=06, y=03 in city 5.\n",
      "Logged 41 buildings for x=07, y=03 in city 5.\n",
      "Logged 01 buildings for x=15, y=04 in city 5.\n",
      "Logged 01 buildings for x=16, y=04 in city 5.\n",
      "Logged 04 buildings for x=15, y=05 in city 5.\n",
      "Logged 01 buildings for x=16, y=05 in city 5.\n",
      "Logged 13 buildings for x=06, y=08 in city 5.\n",
      "Logged 30 buildings for x=17, y=08 in city 5.\n",
      "Logged 51 buildings for x=06, y=09 in city 5.\n",
      "Logged 26 buildings for x=17, y=09 in city 5.\n",
      "Logged 32 buildings for x=05, y=10 in city 5.\n",
      "Logged 56 buildings for x=06, y=10 in city 5.\n",
      "Logged 46 buildings for x=07, y=10 in city 5.\n",
      "Logged 31 buildings for x=17, y=10 in city 5.\n",
      "Logged 39 buildings for x=07, y=16 in city 5.\n",
      "Logged 30 buildings for x=08, y=16 in city 5.\n",
      "Logged 29 buildings for x=06, y=17 in city 5.\n",
      "Logged 40 buildings for x=07, y=17 in city 5.\n",
      "Logged 30 buildings for x=08, y=17 in city 5.\n",
      "Logged 32 buildings for x=09, y=17 in city 5.\n",
      "Logged 36 buildings for x=04, y=18 in city 5.\n",
      "Logged 32 buildings for x=05, y=18 in city 5.\n",
      "Logged 36 buildings for x=06, y=18 in city 5.\n",
      "Logged 22 buildings for x=04, y=19 in city 5.\n",
      "Logged 31 buildings for x=05, y=19 in city 5.\n",
      "\n",
      "Found coordinates for city 6, total of 27 occupied tiles.\n",
      "Logged 08 buildings for x=05, y=02 in city 6.\n",
      "Logged 22 buildings for x=06, y=02 in city 6.\n",
      "Logged 34 buildings for x=09, y=02 in city 6.\n",
      "Logged 29 buildings for x=06, y=03 in city 6.\n",
      "Logged 32 buildings for x=07, y=03 in city 6.\n",
      "Logged 31 buildings for x=08, y=03 in city 6.\n",
      "Logged 29 buildings for x=09, y=03 in city 6.\n",
      "Logged 30 buildings for x=06, y=04 in city 6.\n",
      "Logged 33 buildings for x=07, y=04 in city 6.\n",
      "Logged 30 buildings for x=08, y=04 in city 6.\n",
      "Logged 24 buildings for x=09, y=04 in city 6.\n",
      "Logged 09 buildings for x=15, y=04 in city 6.\n",
      "Logged 03 buildings for x=16, y=04 in city 6.\n",
      "Logged 36 buildings for x=06, y=05 in city 6.\n",
      "Logged 02 buildings for x=15, y=05 in city 6.\n",
      "Logged 05 buildings for x=16, y=05 in city 6.\n",
      "Logged 32 buildings for x=18, y=09 in city 6.\n",
      "Logged 47 buildings for x=08, y=10 in city 6.\n",
      "Logged 30 buildings for x=17, y=10 in city 6.\n",
      "Logged 37 buildings for x=18, y=10 in city 6.\n",
      "Logged 38 buildings for x=08, y=11 in city 6.\n",
      "Logged 64 buildings for x=07, y=12 in city 6.\n",
      "Logged 50 buildings for x=08, y=12 in city 6.\n",
      "Logged 56 buildings for x=08, y=13 in city 6.\n",
      "Logged 35 buildings for x=06, y=16 in city 6.\n",
      "Logged 28 buildings for x=07, y=16 in city 6.\n",
      "Logged 33 buildings for x=07, y=17 in city 6.\n",
      "\n",
      "Found coordinates for city 7, total of 29 occupied tiles.\n",
      "Logged 00 buildings for x=01, y=01 in city 7.\n",
      "Logged 34 buildings for x=07, y=02 in city 7.\n",
      "Logged 38 buildings for x=06, y=03 in city 7.\n",
      "Logged 46 buildings for x=07, y=03 in city 7.\n",
      "Logged 30 buildings for x=08, y=03 in city 7.\n",
      "Logged 34 buildings for x=09, y=03 in city 7.\n",
      "Logged 17 buildings for x=06, y=04 in city 7.\n",
      "Logged 27 buildings for x=08, y=04 in city 7.\n",
      "Logged 25 buildings for x=15, y=04 in city 7.\n"
     ]
    },
    {
     "name": "stdout",
     "output_type": "stream",
     "text": [
      "Logged 11 buildings for x=16, y=04 in city 7.\n",
      "Logged 03 buildings for x=01, y=05 in city 7.\n",
      "Logged 01 buildings for x=15, y=05 in city 7.\n",
      "Logged 08 buildings for x=16, y=05 in city 7.\n",
      "Logged 32 buildings for x=17, y=07 in city 7.\n",
      "Logged 28 buildings for x=17, y=08 in city 7.\n",
      "Logged 29 buildings for x=17, y=09 in city 7.\n",
      "Logged 34 buildings for x=15, y=10 in city 7.\n",
      "Logged 31 buildings for x=16, y=10 in city 7.\n",
      "Logged 54 buildings for x=17, y=10 in city 7.\n",
      "Logged 45 buildings for x=18, y=10 in city 7.\n",
      "Logged 55 buildings for x=06, y=11 in city 7.\n",
      "Logged 29 buildings for x=15, y=11 in city 7.\n",
      "Logged 31 buildings for x=16, y=11 in city 7.\n",
      "Logged 44 buildings for x=06, y=12 in city 7.\n",
      "Logged 49 buildings for x=07, y=12 in city 7.\n",
      "Logged 54 buildings for x=08, y=12 in city 7.\n",
      "Logged 42 buildings for x=09, y=12 in city 7.\n",
      "Logged 42 buildings for x=07, y=17 in city 7.\n",
      "Logged 31 buildings for x=08, y=17 in city 7.\n",
      "\n",
      "Found coordinates for city 8, total of 18 occupied tiles.\n",
      "Logged 24 buildings for x=06, y=02 in city 8.\n",
      "Logged 38 buildings for x=06, y=03 in city 8.\n",
      "Logged 42 buildings for x=07, y=03 in city 8.\n",
      "Logged 36 buildings for x=05, y=04 in city 8.\n",
      "Logged 27 buildings for x=06, y=04 in city 8.\n",
      "Logged 02 buildings for x=16, y=04 in city 8.\n",
      "Logged 02 buildings for x=16, y=05 in city 8.\n",
      "Logged 37 buildings for x=17, y=10 in city 8.\n",
      "Logged 02 buildings for x=01, y=11 in city 8.\n",
      "Logged 46 buildings for x=05, y=11 in city 8.\n",
      "Logged 54 buildings for x=06, y=11 in city 8.\n",
      "Logged 57 buildings for x=07, y=11 in city 8.\n",
      "Logged 12 buildings for x=06, y=12 in city 8.\n",
      "Logged 31 buildings for x=06, y=17 in city 8.\n",
      "Logged 31 buildings for x=07, y=17 in city 8.\n",
      "Logged 26 buildings for x=06, y=18 in city 8.\n",
      "Logged 34 buildings for x=07, y=18 in city 8.\n",
      "Logged 36 buildings for x=06, y=19 in city 8.\n",
      "\n",
      "Found coordinates for city 9, total of 26 occupied tiles.\n",
      "Logged 30 buildings for x=07, y=03 in city 9.\n",
      "Logged 33 buildings for x=08, y=03 in city 9.\n",
      "Logged 27 buildings for x=07, y=04 in city 9.\n",
      "Logged 06 buildings for x=15, y=04 in city 9.\n",
      "Logged 01 buildings for x=16, y=04 in city 9.\n",
      "Logged 06 buildings for x=15, y=05 in city 9.\n",
      "Logged 04 buildings for x=16, y=05 in city 9.\n",
      "Logged 01 buildings for x=01, y=08 in city 9.\n",
      "Logged 33 buildings for x=18, y=09 in city 9.\n",
      "Logged 27 buildings for x=19, y=09 in city 9.\n",
      "Logged 02 buildings for x=01, y=10 in city 9.\n",
      "Logged 50 buildings for x=09, y=10 in city 9.\n",
      "Logged 57 buildings for x=10, y=10 in city 9.\n",
      "Logged 36 buildings for x=17, y=10 in city 9.\n",
      "Logged 47 buildings for x=18, y=10 in city 9.\n",
      "Logged 28 buildings for x=19, y=10 in city 9.\n",
      "Logged 36 buildings for x=20, y=10 in city 9.\n",
      "Logged 61 buildings for x=10, y=11 in city 9.\n",
      "Logged 29 buildings for x=18, y=11 in city 9.\n",
      "Logged 18 buildings for x=10, y=12 in city 9.\n",
      "Logged 33 buildings for x=18, y=12 in city 9.\n",
      "Logged 29 buildings for x=06, y=16 in city 9.\n",
      "Logged 29 buildings for x=06, y=17 in city 9.\n",
      "Logged 34 buildings for x=07, y=17 in city 9.\n",
      "Logged 27 buildings for x=07, y=18 in city 9.\n",
      "Logged 06 buildings for x=01, y=20 in city 9.\n",
      "\n",
      "Found coordinates for city 10, total of 22 occupied tiles.\n",
      "Logged 53 buildings for x=07, y=03 in city 10.\n",
      "Logged 38 buildings for x=08, y=03 in city 10.\n",
      "Logged 03 buildings for x=16, y=04 in city 10.\n",
      "Logged 40 buildings for x=17, y=09 in city 10.\n",
      "Logged 54 buildings for x=17, y=10 in city 10.\n",
      "Logged 38 buildings for x=18, y=10 in city 10.\n",
      "Logged 34 buildings for x=19, y=10 in city 10.\n",
      "Logged 33 buildings for x=20, y=10 in city 10.\n",
      "Logged 49 buildings for x=07, y=11 in city 10.\n",
      "Logged 43 buildings for x=08, y=11 in city 10.\n",
      "Logged 29 buildings for x=17, y=11 in city 10.\n",
      "Logged 66 buildings for x=07, y=12 in city 10.\n",
      "Logged 54 buildings for x=08, y=12 in city 10.\n",
      "Logged 54 buildings for x=08, y=13 in city 10.\n",
      "Logged 53 buildings for x=07, y=15 in city 10.\n",
      "Logged 39 buildings for x=08, y=15 in city 10.\n",
      "Logged 01 buildings for x=09, y=15 in city 10.\n",
      "Logged 40 buildings for x=07, y=16 in city 10.\n",
      "Logged 34 buildings for x=07, y=17 in city 10.\n",
      "Logged 32 buildings for x=06, y=18 in city 10.\n",
      "Logged 35 buildings for x=07, y=18 in city 10.\n",
      "Logged 27 buildings for x=08, y=18 in city 10.\n",
      "Wall time: 4min 58s\n"
     ]
    }
   ],
   "source": [
    "all_buildings = []\n",
    "\n",
    "for cityId in range(1,11):\n",
    "    waitRand(maxTime=2)\n",
    "    cityOverviewUrl = 'https://usa.tycoononline.com/frame_index.php?page=kartaSegment&cityId={}&typ=1'.format(cityId)\n",
    "    driver.get(cityOverviewUrl)\n",
    "\n",
    "    map_grid = driver.find_element_by_id(\"chooseArea\").find_element_by_tag_name('table').find_element_by_tag_name('table').find_elements_by_tag_name('td')\n",
    "    coord_list = find_coords(map_grid)\n",
    "    print(\"\\nFound coordinates for city {}, total of {} occupied tiles.\".format(cityId, len(coord_list)))\n",
    "\n",
    "    for coord_set in coord_list:\n",
    "        x = coord_set[0]\n",
    "        y = coord_set[1]\n",
    "        cityTileurl = \"https://usa.tycoononline.com/frame_index.php?page=kartaTitta&X={}&Y={}&cityId={}\".format(x, y, cityId)\n",
    "        driver.get(cityTileurl)\n",
    "        full_map = driver.find_element_by_id('main-column').find_elements_by_tag_name('table')[5].get_attribute('innerHTML')\n",
    "        bs4 = BeautifulSoup(full_map)\n",
    "        map_tiles = bs4.find_all('img')\n",
    "        processed_map_tiles = extract_building_info(map_tiles)\n",
    "        all_buildings += processed_map_tiles\n",
    "        print(\"Logged {} buildings for x={}, y={} in city {}.\".format(str(len(processed_map_tiles)).zfill(2), str(x).zfill(2), str(y).zfill(2), cityId))"
   ]
  },
  {
   "cell_type": "code",
   "execution_count": 8,
   "metadata": {
    "pycharm": {
     "is_executing": false
    }
   },
   "outputs": [
    {
     "name": "stdout",
     "output_type": "stream",
     "text": [
      "Got page 1.\n",
      "Got page 2.\n",
      "Got page 3.\n",
      "Got page 4.\n",
      "Got page 5.\n",
      "Got page 6.\n",
      "Got page 7.\n",
      "Got page 8.\n",
      "Got page 9.\n",
      "Got page 10.\n",
      "Got page 11.\n"
     ]
    }
   ],
   "source": [
    "leaderboard_values = []\n",
    "currentPage = 0\n",
    "next_page = 'https://usa.tycoononline.com/frame_index.php?page=rankingCompany&pagenbr=1&sortering=ranking&pageValue1'\n",
    "while (next_page):\n",
    "    waitRand()\n",
    "    driver.get(next_page)\n",
    "    try:\n",
    "        next_page = driver.find_element_by_link_text('>').get_attribute('href')\n",
    "    except NoSuchElementException:\n",
    "        next_page = None\n",
    "    leaderboard = driver.find_element_by_xpath(\n",
    "        \"/html/body/div[2]/div[2]/table/tbody/tr/td[2]/table/tbody/tr[2]/td/table[4]\")\n",
    "    rows = leaderboard.find_elements_by_tag_name('tr')\n",
    "    currentPage += 1\n",
    "    print('Got page {}.'.format(currentPage))\n",
    "\n",
    "    for place in range(2, len(rows), 2):\n",
    "        row = rows[place]\n",
    "        ranking = int(row.find_elements_by_tag_name('td')[0].text)\n",
    "        companyName = row.find_elements_by_tag_name('td')[2].text\n",
    "        playerName = row.find_elements_by_tag_name('td')[3].text\n",
    "        companyValue = int(row.find_elements_by_tag_name('td')[4].text.replace(',', ''))\n",
    "        rankingInfo = (ranking, companyName, playerName, companyValue)\n",
    "        leaderboard_values.append(rankingInfo)"
   ]
  },
  {
   "cell_type": "code",
   "execution_count": 9,
   "metadata": {
    "pycharm": {
     "is_executing": false
    }
   },
   "outputs": [
    {
     "name": "stdout",
     "output_type": "stream",
     "text": [
      "Done.\n",
      "Recorded date of data collection.\n"
     ]
    }
   ],
   "source": [
    "driver.close()\n",
    "print('Done.')\n",
    "\n",
    "today = date.today()\n",
    "print('Recorded date of data collection.')"
   ]
  },
  {
   "cell_type": "code",
   "execution_count": 10,
   "metadata": {
    "pycharm": {
     "is_executing": false
    }
   },
   "outputs": [],
   "source": [
    "cols = ['Rank', 'Company Name', 'Player Name', 'CV']\n",
    "leaderboard_df = pd.DataFrame(leaderboard_values, columns=cols).set_index('Rank')\n",
    "\n",
    "folder = os.path.join(\"data\", \"leaderboard\")\n",
    "if not os.path.exists(folder):\n",
    "    os.makedirs(folder)\n",
    "path = os.path.join(folder, '{}.csv'.format(today))\n",
    "leaderboard_df.to_csv(path)"
   ]
  },
  {
   "cell_type": "code",
   "execution_count": 11,
   "metadata": {
    "pycharm": {
     "is_executing": false
    }
   },
   "outputs": [],
   "source": [
    "cols = ['Building', 'Company Name', 'Player Name', 'Road Bonus']\n",
    "buildings_df = pd.DataFrame(all_buildings, columns=cols)\n",
    "\n",
    "folder = os.path.join(\"data\", \"buildingData\")\n",
    "if not os.path.exists(folder):\n",
    "    os.makedirs(folder)\n",
    "path = os.path.join(folder, '{}.csv'.format(today))\n",
    "buildings_df.to_csv(path, index=False)"
   ]
  }
 ],
 "metadata": {
  "kernelspec": {
   "display_name": "Python 3",
   "language": "python",
   "name": "python3"
  },
  "language_info": {
   "codemirror_mode": {
    "name": "ipython",
    "version": 3
   },
   "file_extension": ".py",
   "mimetype": "text/x-python",
   "name": "python",
   "nbconvert_exporter": "python",
   "pygments_lexer": "ipython3",
   "version": "3.7.6"
  },
  "pycharm": {
   "stem_cell": {
    "cell_type": "raw",
    "metadata": {
     "collapsed": false
    },
    "source": []
   }
  }
 },
 "nbformat": 4,
 "nbformat_minor": 4
}
